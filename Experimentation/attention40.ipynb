{
  "metadata": {
    "kernelspec": {
      "language": "python",
      "display_name": "Python 3",
      "name": "python3"
    },
    "language_info": {
      "name": "python",
      "version": "3.10.14",
      "mimetype": "text/x-python",
      "codemirror_mode": {
        "name": "ipython",
        "version": 3
      },
      "pygments_lexer": "ipython3",
      "nbconvert_exporter": "python",
      "file_extension": ".py"
    },
    "kaggle": {
      "accelerator": "nvidiaTeslaT4",
      "dataSources": [
        {
          "sourceId": 9462344,
          "sourceType": "datasetVersion",
          "datasetId": 5753003
        }
      ],
      "dockerImageVersionId": 30776,
      "isInternetEnabled": true,
      "language": "python",
      "sourceType": "notebook",
      "isGpuEnabled": true
    },
    "colab": {
      "name": "Synthetic Data Generation Model",
      "provenance": []
    }
  },
  "nbformat_minor": 0,
  "nbformat": 4,
  "cells": [
    {
      "source": [
        "\n",
        "# IMPORTANT: RUN THIS CELL IN ORDER TO IMPORT YOUR KAGGLE DATA SOURCES\n",
        "# TO THE CORRECT LOCATION (/kaggle/input) IN YOUR NOTEBOOK,\n",
        "# THEN FEEL FREE TO DELETE THIS CELL.\n",
        "# NOTE: THIS NOTEBOOK ENVIRONMENT DIFFERS FROM KAGGLE'S PYTHON\n",
        "# ENVIRONMENT SO THERE MAY BE MISSING LIBRARIES USED BY YOUR\n",
        "# NOTEBOOK.\n",
        "\n",
        "import os\n",
        "import sys\n",
        "from tempfile import NamedTemporaryFile\n",
        "from urllib.request import urlopen\n",
        "from urllib.parse import unquote, urlparse\n",
        "from urllib.error import HTTPError\n",
        "from zipfile import ZipFile\n",
        "import tarfile\n",
        "import shutil\n",
        "\n",
        "CHUNK_SIZE = 40960\n",
        "DATA_SOURCE_MAPPING = 'reviews-shl:https%3A%2F%2Fstorage.googleapis.com%2Fkaggle-data-sets%2F5753003%2F9462344%2Fbundle%2Farchive.zip%3FX-Goog-Algorithm%3DGOOG4-RSA-SHA256%26X-Goog-Credential%3Dgcp-kaggle-com%2540kaggle-161607.iam.gserviceaccount.com%252F20240926%252Fauto%252Fstorage%252Fgoog4_request%26X-Goog-Date%3D20240926T225302Z%26X-Goog-Expires%3D259200%26X-Goog-SignedHeaders%3Dhost%26X-Goog-Signature%3Da6ee946ef822242621a30749d699c456700b5364a80b1fdc4eced0a68afaf0c8a9ca093e3d16c4375a2eb35b6ff74c375aad274591f09cae8e208aa33443d3630033326ed5f8dd113e2ee2e2756d4a6dde596b97639cf1788380ef20a03f2cfd0961bfb55149db5bc7cdd4eba398e0bff7da280f0c531b67f49fa337c17492119f4f4264b1a5fbd88fd7ed767833a137eaba89d214e9791272a20bf1de5bde3553bb4fd33fee8080c08d9c1b25edabe5bd1827d04a796532c8d35dcf6a795dcde593783e6e90e4cfeb41bf27891a102ff1461997d04163a4c2dfbced68c20faa5a037ccc509072d4d21c5e090e0923bd12cacbf40a1d393a8aaafb4c37096ff5'\n",
        "\n",
        "KAGGLE_INPUT_PATH='/kaggle/input'\n",
        "KAGGLE_WORKING_PATH='/kaggle/working'\n",
        "KAGGLE_SYMLINK='kaggle'\n",
        "\n",
        "!umount /kaggle/input/ 2> /dev/null\n",
        "shutil.rmtree('/kaggle/input', ignore_errors=True)\n",
        "os.makedirs(KAGGLE_INPUT_PATH, 0o777, exist_ok=True)\n",
        "os.makedirs(KAGGLE_WORKING_PATH, 0o777, exist_ok=True)\n",
        "\n",
        "try:\n",
        "  os.symlink(KAGGLE_INPUT_PATH, os.path.join(\"..\", 'input'), target_is_directory=True)\n",
        "except FileExistsError:\n",
        "  pass\n",
        "try:\n",
        "  os.symlink(KAGGLE_WORKING_PATH, os.path.join(\"..\", 'working'), target_is_directory=True)\n",
        "except FileExistsError:\n",
        "  pass\n",
        "\n",
        "for data_source_mapping in DATA_SOURCE_MAPPING.split(','):\n",
        "    directory, download_url_encoded = data_source_mapping.split(':')\n",
        "    download_url = unquote(download_url_encoded)\n",
        "    filename = urlparse(download_url).path\n",
        "    destination_path = os.path.join(KAGGLE_INPUT_PATH, directory)\n",
        "    try:\n",
        "        with urlopen(download_url) as fileres, NamedTemporaryFile() as tfile:\n",
        "            total_length = fileres.headers['content-length']\n",
        "            print(f'Downloading {directory}, {total_length} bytes compressed')\n",
        "            dl = 0\n",
        "            data = fileres.read(CHUNK_SIZE)\n",
        "            while len(data) > 0:\n",
        "                dl += len(data)\n",
        "                tfile.write(data)\n",
        "                done = int(50 * dl / int(total_length))\n",
        "                sys.stdout.write(f\"\\r[{'=' * done}{' ' * (50-done)}] {dl} bytes downloaded\")\n",
        "                sys.stdout.flush()\n",
        "                data = fileres.read(CHUNK_SIZE)\n",
        "            if filename.endswith('.zip'):\n",
        "              with ZipFile(tfile) as zfile:\n",
        "                zfile.extractall(destination_path)\n",
        "            else:\n",
        "              with tarfile.open(tfile.name) as tarfile:\n",
        "                tarfile.extractall(destination_path)\n",
        "            print(f'\\nDownloaded and uncompressed: {directory}')\n",
        "    except HTTPError as e:\n",
        "        print(f'Failed to load (likely expired) {download_url} to path {destination_path}')\n",
        "        continue\n",
        "    except OSError as e:\n",
        "        print(f'Failed to load {download_url} to path {destination_path}')\n",
        "        continue\n",
        "\n",
        "print('Data source import complete.')\n"
      ],
      "metadata": {
        "id": "JUO8Ta8Fie-o"
      },
      "cell_type": "code",
      "outputs": [],
      "execution_count": null
    },
    {
      "cell_type": "code",
      "source": [
        "from tensorflow.keras.preprocessing.sequence import pad_sequences\n",
        "from tensorflow.keras.layers import Embedding, LSTM, Dense, Dropout\n",
        "from tensorflow.keras.preprocessing.text import Tokenizer\n",
        "from tensorflow.keras.callbacks import EarlyStopping\n",
        "from tensorflow.keras.models import Sequential\n",
        "import keras.utils as ku\n",
        "from tensorflow.keras.utils import to_categorical\n",
        "from tensorflow.keras.models import Sequential\n",
        "from tensorflow.keras.models import Model\n",
        "from tensorflow.keras.layers import Input, Embedding, LSTM, Dense, Bidirectional, Dropout, Attention, concatenate, GlobalAveragePooling1D\n",
        "import pandas as pd\n",
        "import numpy as np\n",
        "import string, os\n",
        "import warnings\n",
        "warnings.filterwarnings(\"ignore\")\n",
        "warnings.simplefilter(action='ignore', category=FutureWarning)\n",
        "from nltk.corpus import stopwords\n",
        "from nltk.stem import WordNetLemmatizer\n",
        "import nltk\n",
        "import spacy\n",
        "import matplotlib.pyplot as plt\n",
        "\n",
        "# Download NLTK resources\n",
        "nltk.download('stopwords')\n",
        "nltk.download('wordnet')\n",
        "nltk.download('wordnet', download_dir='/usr/share/nltk_data')"
      ],
      "metadata": {
        "_uuid": "8f2839f25d086af736a60e9eeb907d3b93b6e0e5",
        "_cell_guid": "b1076dfc-b9ad-4769-8c92-a6c4dae69d19",
        "execution": {
          "iopub.status.busy": "2024-09-25T20:22:52.50934Z",
          "iopub.execute_input": "2024-09-25T20:22:52.509719Z",
          "iopub.status.idle": "2024-09-25T20:23:14.695153Z",
          "shell.execute_reply.started": "2024-09-25T20:22:52.509682Z",
          "shell.execute_reply": "2024-09-25T20:23:14.694102Z"
        },
        "trusted": true,
        "id": "tPURXkX2ie_D",
        "outputId": "845db939-b5e8-4f22-f3f6-ae59a0e16d6f"
      },
      "execution_count": null,
      "outputs": [
        {
          "name": "stdout",
          "text": "[nltk_data] Downloading package stopwords to /usr/share/nltk_data...\n[nltk_data]   Package stopwords is already up-to-date!\n[nltk_data] Downloading package wordnet to /usr/share/nltk_data...\n[nltk_data]   Package wordnet is already up-to-date!\n[nltk_data] Downloading package wordnet to /usr/share/nltk_data...\n[nltk_data]   Package wordnet is already up-to-date!\n",
          "output_type": "stream"
        },
        {
          "execution_count": 2,
          "output_type": "execute_result",
          "data": {
            "text/plain": "True"
          },
          "metadata": {}
        }
      ]
    },
    {
      "cell_type": "code",
      "source": [
        "#Dataset loading\n",
        "df = pd.read_csv('/kaggle/input/reviews-shl/reviews_supplements.csv')"
      ],
      "metadata": {
        "execution": {
          "iopub.status.busy": "2024-09-25T20:23:14.696863Z",
          "iopub.execute_input": "2024-09-25T20:23:14.697406Z",
          "iopub.status.idle": "2024-09-25T20:23:14.909329Z",
          "shell.execute_reply.started": "2024-09-25T20:23:14.697372Z",
          "shell.execute_reply": "2024-09-25T20:23:14.90853Z"
        },
        "trusted": true,
        "id": "7ShEtnU6ie_I"
      },
      "execution_count": null,
      "outputs": []
    },
    {
      "cell_type": "code",
      "source": [
        "df.head()"
      ],
      "metadata": {
        "execution": {
          "iopub.status.busy": "2024-09-25T20:23:14.910413Z",
          "iopub.execute_input": "2024-09-25T20:23:14.910754Z",
          "iopub.status.idle": "2024-09-25T20:23:14.934873Z",
          "shell.execute_reply.started": "2024-09-25T20:23:14.910717Z",
          "shell.execute_reply": "2024-09-25T20:23:14.933989Z"
        },
        "trusted": true,
        "id": "st3NLu-eie_K",
        "outputId": "31189476-9f9a-4e13-b4ba-419d8b73b667"
      },
      "execution_count": null,
      "outputs": [
        {
          "execution_count": 4,
          "output_type": "execute_result",
          "data": {
            "text/plain": "   rating                                title  \\\n0       4            B Complex in gel cap form   \n1       5                           Five Stars   \n2       5                           Five Stars   \n3       5         Vitamin Shoppe Dry Vitamin A   \n4       5  Un producto que compro regularmente   \n\n                                                text        asin parent_asin  \\\n0  I bought this along with Vit C in gel cap form...  B00012ND5G  B00012ND5G   \n1                                      great product  B00013Z0ZQ  B00013Z0ZQ   \n2                                 Came as expectedly  B00013Z0ZQ  B00013Z0ZQ   \n3  Excellent Product ..... Fast Delivery ....... ...  B00013Z1KA  B00013Z1KA   \n4                              Es muy buena vitamina  B00013Z1KA  B00013Z1KA   \n\n                        user_id         timestamp  helpful_vote  \\\n0  AGDVFFLJWAQ3ULNNKF4LXID2RVSQ  11-12-2009 00:37             1   \n1  AG3BSKXHDGP6E3EGQD2SXCK6KFQQ  04-01-2015 03:11             0   \n2  AHG2WKFD4LXPC46WWC6JMQGX52JA  27-09-2015 19:15             0   \n3  AEOF7RT3AC4ACRX5HGIP2V3BNIHA           33:16.9             0   \n4  AGW2WETWQRL2PKUGTL2LU7IJ2BPQ           11:10.9             0   \n\n   verified_purchase        date   time  \n0               True  11-12-2009  00:37  \n1               True  04-01-2015  03:11  \n2               True  27-09-2015  19:15  \n3               True  09-02-2019  19:33  \n4               True  25-07-2022  14:11  ",
            "text/html": "<div>\n<style scoped>\n    .dataframe tbody tr th:only-of-type {\n        vertical-align: middle;\n    }\n\n    .dataframe tbody tr th {\n        vertical-align: top;\n    }\n\n    .dataframe thead th {\n        text-align: right;\n    }\n</style>\n<table border=\"1\" class=\"dataframe\">\n  <thead>\n    <tr style=\"text-align: right;\">\n      <th></th>\n      <th>rating</th>\n      <th>title</th>\n      <th>text</th>\n      <th>asin</th>\n      <th>parent_asin</th>\n      <th>user_id</th>\n      <th>timestamp</th>\n      <th>helpful_vote</th>\n      <th>verified_purchase</th>\n      <th>date</th>\n      <th>time</th>\n    </tr>\n  </thead>\n  <tbody>\n    <tr>\n      <th>0</th>\n      <td>4</td>\n      <td>B Complex in gel cap form</td>\n      <td>I bought this along with Vit C in gel cap form...</td>\n      <td>B00012ND5G</td>\n      <td>B00012ND5G</td>\n      <td>AGDVFFLJWAQ3ULNNKF4LXID2RVSQ</td>\n      <td>11-12-2009 00:37</td>\n      <td>1</td>\n      <td>True</td>\n      <td>11-12-2009</td>\n      <td>00:37</td>\n    </tr>\n    <tr>\n      <th>1</th>\n      <td>5</td>\n      <td>Five Stars</td>\n      <td>great product</td>\n      <td>B00013Z0ZQ</td>\n      <td>B00013Z0ZQ</td>\n      <td>AG3BSKXHDGP6E3EGQD2SXCK6KFQQ</td>\n      <td>04-01-2015 03:11</td>\n      <td>0</td>\n      <td>True</td>\n      <td>04-01-2015</td>\n      <td>03:11</td>\n    </tr>\n    <tr>\n      <th>2</th>\n      <td>5</td>\n      <td>Five Stars</td>\n      <td>Came as expectedly</td>\n      <td>B00013Z0ZQ</td>\n      <td>B00013Z0ZQ</td>\n      <td>AHG2WKFD4LXPC46WWC6JMQGX52JA</td>\n      <td>27-09-2015 19:15</td>\n      <td>0</td>\n      <td>True</td>\n      <td>27-09-2015</td>\n      <td>19:15</td>\n    </tr>\n    <tr>\n      <th>3</th>\n      <td>5</td>\n      <td>Vitamin Shoppe Dry Vitamin A</td>\n      <td>Excellent Product ..... Fast Delivery ....... ...</td>\n      <td>B00013Z1KA</td>\n      <td>B00013Z1KA</td>\n      <td>AEOF7RT3AC4ACRX5HGIP2V3BNIHA</td>\n      <td>33:16.9</td>\n      <td>0</td>\n      <td>True</td>\n      <td>09-02-2019</td>\n      <td>19:33</td>\n    </tr>\n    <tr>\n      <th>4</th>\n      <td>5</td>\n      <td>Un producto que compro regularmente</td>\n      <td>Es muy buena vitamina</td>\n      <td>B00013Z1KA</td>\n      <td>B00013Z1KA</td>\n      <td>AGW2WETWQRL2PKUGTL2LU7IJ2BPQ</td>\n      <td>11:10.9</td>\n      <td>0</td>\n      <td>True</td>\n      <td>25-07-2022</td>\n      <td>14:11</td>\n    </tr>\n  </tbody>\n</table>\n</div>"
          },
          "metadata": {}
        }
      ]
    },
    {
      "cell_type": "code",
      "source": [
        "df.shape"
      ],
      "metadata": {
        "execution": {
          "iopub.status.busy": "2024-09-25T20:23:14.936835Z",
          "iopub.execute_input": "2024-09-25T20:23:14.937124Z",
          "iopub.status.idle": "2024-09-25T20:23:14.943269Z",
          "shell.execute_reply.started": "2024-09-25T20:23:14.937093Z",
          "shell.execute_reply": "2024-09-25T20:23:14.942293Z"
        },
        "trusted": true,
        "id": "q-F0qCyzie_M",
        "outputId": "48039bc0-5638-48da-cf42-e9b9bc62738d"
      },
      "execution_count": null,
      "outputs": [
        {
          "execution_count": 5,
          "output_type": "execute_result",
          "data": {
            "text/plain": "(16669, 11)"
          },
          "metadata": {}
        }
      ]
    },
    {
      "cell_type": "code",
      "source": [
        "df.info()"
      ],
      "metadata": {
        "execution": {
          "iopub.status.busy": "2024-09-25T20:23:14.944339Z",
          "iopub.execute_input": "2024-09-25T20:23:14.944637Z",
          "iopub.status.idle": "2024-09-25T20:23:14.98878Z",
          "shell.execute_reply.started": "2024-09-25T20:23:14.944603Z",
          "shell.execute_reply": "2024-09-25T20:23:14.987843Z"
        },
        "trusted": true,
        "id": "Pqux-q7Hie_O",
        "outputId": "30c23c8b-ee13-4aeb-d90f-c1da9c74bc1b"
      },
      "execution_count": null,
      "outputs": [
        {
          "name": "stdout",
          "text": "<class 'pandas.core.frame.DataFrame'>\nRangeIndex: 16669 entries, 0 to 16668\nData columns (total 11 columns):\n #   Column             Non-Null Count  Dtype \n---  ------             --------------  ----- \n 0   rating             16669 non-null  int64 \n 1   title              16662 non-null  object\n 2   text               16664 non-null  object\n 3   asin               16669 non-null  object\n 4   parent_asin        16669 non-null  object\n 5   user_id            16669 non-null  object\n 6   timestamp          16669 non-null  object\n 7   helpful_vote       16669 non-null  int64 \n 8   verified_purchase  16669 non-null  bool  \n 9   date               16669 non-null  object\n 10  time               16669 non-null  object\ndtypes: bool(1), int64(2), object(8)\nmemory usage: 1.3+ MB\n",
          "output_type": "stream"
        }
      ]
    },
    {
      "cell_type": "code",
      "source": [
        "#check null values\n",
        "df.isnull().sum()"
      ],
      "metadata": {
        "execution": {
          "iopub.status.busy": "2024-09-25T20:23:14.990104Z",
          "iopub.execute_input": "2024-09-25T20:23:14.990661Z",
          "iopub.status.idle": "2024-09-25T20:23:15.010888Z",
          "shell.execute_reply.started": "2024-09-25T20:23:14.990614Z",
          "shell.execute_reply": "2024-09-25T20:23:15.010054Z"
        },
        "trusted": true,
        "id": "sSissPPQie_R",
        "outputId": "8a2a2f0d-ffba-449b-9831-560350eef4bd"
      },
      "execution_count": null,
      "outputs": [
        {
          "execution_count": 7,
          "output_type": "execute_result",
          "data": {
            "text/plain": "rating               0\ntitle                7\ntext                 5\nasin                 0\nparent_asin          0\nuser_id              0\ntimestamp            0\nhelpful_vote         0\nverified_purchase    0\ndate                 0\ntime                 0\ndtype: int64"
          },
          "metadata": {}
        }
      ]
    },
    {
      "cell_type": "code",
      "source": [
        "df = df.dropna()"
      ],
      "metadata": {
        "execution": {
          "iopub.status.busy": "2024-09-25T20:23:15.012109Z",
          "iopub.execute_input": "2024-09-25T20:23:15.01239Z",
          "iopub.status.idle": "2024-09-25T20:23:15.035006Z",
          "shell.execute_reply.started": "2024-09-25T20:23:15.012359Z",
          "shell.execute_reply": "2024-09-25T20:23:15.034322Z"
        },
        "trusted": true,
        "id": "wv3JFGWFie_U"
      },
      "execution_count": null,
      "outputs": []
    },
    {
      "cell_type": "code",
      "source": [
        "df.shape"
      ],
      "metadata": {
        "execution": {
          "iopub.status.busy": "2024-09-25T20:23:15.036143Z",
          "iopub.execute_input": "2024-09-25T20:23:15.036617Z",
          "iopub.status.idle": "2024-09-25T20:23:15.043283Z",
          "shell.execute_reply.started": "2024-09-25T20:23:15.036569Z",
          "shell.execute_reply": "2024-09-25T20:23:15.042446Z"
        },
        "trusted": true,
        "id": "wriQJ_yuie_W",
        "outputId": "98d2b5bb-cc82-4ac2-ea07-9c982d005dea"
      },
      "execution_count": null,
      "outputs": [
        {
          "execution_count": 9,
          "output_type": "execute_result",
          "data": {
            "text/plain": "(16658, 11)"
          },
          "metadata": {}
        }
      ]
    },
    {
      "cell_type": "code",
      "source": [
        "# Calculate the number of words in each text in the 'text' column\n",
        "word_counts = df['text'].dropna().str.split().str.len()\n",
        "\n",
        "plt.figure(figsize=(10, 6))\n",
        "plt.hist(word_counts, bins=30, color='skyblue', edgecolor='black')\n",
        "plt.title('Distribution of Word Counts in Text Column')\n",
        "plt.xlabel('Word Count')\n",
        "plt.ylabel('Frequency')\n",
        "plt.grid(axis='y', alpha=0.75)\n",
        "plt.show()\n"
      ],
      "metadata": {
        "execution": {
          "iopub.status.busy": "2024-09-25T20:23:15.044486Z",
          "iopub.execute_input": "2024-09-25T20:23:15.045115Z",
          "iopub.status.idle": "2024-09-25T20:23:15.784366Z",
          "shell.execute_reply.started": "2024-09-25T20:23:15.045071Z",
          "shell.execute_reply": "2024-09-25T20:23:15.783437Z"
        },
        "trusted": true,
        "id": "36NKwo2bie_a",
        "outputId": "277c5314-8398-4278-d2bc-a84bcafa0c4f"
      },
      "execution_count": null,
      "outputs": [
        {
          "output_type": "display_data",
          "data": {
            "text/plain": "<Figure size 1000x600 with 1 Axes>",
            "image/png": "[encoded data removed]"
          },
          "metadata": {}
        }
      ]
    },
    {
      "cell_type": "code",
      "source": [
        "#word count for title column\n",
        "\n",
        "word_counts = df['title'].dropna().str.split().str.len()\n",
        "\n",
        "plt.figure(figsize=(10, 6))\n",
        "plt.hist(word_counts, bins=30, color='skyblue', edgecolor='black')\n",
        "plt.title('Distribution of Word Counts in Text Column')\n",
        "plt.xlabel('Word Count')\n",
        "plt.ylabel('Frequency')\n",
        "plt.grid(axis='y', alpha=0.75)\n",
        "plt.show()"
      ],
      "metadata": {
        "execution": {
          "iopub.status.busy": "2024-09-25T20:23:15.788896Z",
          "iopub.execute_input": "2024-09-25T20:23:15.78924Z",
          "iopub.status.idle": "2024-09-25T20:23:16.131803Z",
          "shell.execute_reply.started": "2024-09-25T20:23:15.789204Z",
          "shell.execute_reply": "2024-09-25T20:23:16.130965Z"
        },
        "trusted": true,
        "id": "LTO3Vydjie_f",
        "outputId": "84b69d28-b97a-4be3-ee9d-51e39b12f4a7"
      },
      "execution_count": null,
      "outputs": [
        {
          "output_type": "display_data",
          "data": {
            "text/plain": "<Figure size 1000x600 with 1 Axes>",
            "image/png": "[encoded data removed]"
          },
          "metadata": {}
        }
      ]
    },
    {
      "cell_type": "code",
      "source": [
        "# value count for rating column\n",
        "\n",
        "df['rating'].value_counts()"
      ],
      "metadata": {
        "execution": {
          "iopub.status.busy": "2024-09-25T20:23:16.132834Z",
          "iopub.execute_input": "2024-09-25T20:23:16.133119Z",
          "iopub.status.idle": "2024-09-25T20:23:16.142797Z",
          "shell.execute_reply.started": "2024-09-25T20:23:16.133088Z",
          "shell.execute_reply": "2024-09-25T20:23:16.141698Z"
        },
        "trusted": true,
        "id": "UCKzyM3Vie_g",
        "outputId": "db833473-0a65-4caa-978a-804ddeb04dc9"
      },
      "execution_count": null,
      "outputs": [
        {
          "execution_count": 12,
          "output_type": "execute_result",
          "data": {
            "text/plain": "rating\n5    11201\n1     2028\n4     1752\n3      955\n2      722\nName: count, dtype: int64"
          },
          "metadata": {}
        }
      ]
    },
    {
      "cell_type": "code",
      "source": [
        "#value count for verified purchase column\n",
        "\n",
        "df['verified_purchase'].value_counts()"
      ],
      "metadata": {
        "execution": {
          "iopub.status.busy": "2024-09-25T20:23:16.143995Z",
          "iopub.execute_input": "2024-09-25T20:23:16.144345Z",
          "iopub.status.idle": "2024-09-25T20:23:16.158815Z",
          "shell.execute_reply.started": "2024-09-25T20:23:16.144292Z",
          "shell.execute_reply": "2024-09-25T20:23:16.157815Z"
        },
        "trusted": true,
        "id": "VK7gfuV9ie_h",
        "outputId": "e299f4fe-f106-4c75-860a-eb0e11cd1ed9"
      },
      "execution_count": null,
      "outputs": [
        {
          "execution_count": 13,
          "output_type": "execute_result",
          "data": {
            "text/plain": "verified_purchase\nTrue    16658\nName: count, dtype: int64"
          },
          "metadata": {}
        }
      ]
    },
    {
      "cell_type": "code",
      "source": [
        "#Standard Scale the values of rating column\n",
        "\n",
        "from sklearn.preprocessing import StandardScaler\n",
        "\n",
        "rating_values = df['rating'].values.reshape(-1, 1)\n",
        "\n",
        "# Initialize the scaler\n",
        "scaler = StandardScaler()\n",
        "\n",
        "# Standardize the rating column\n",
        "df['rating'] = scaler.fit_transform(rating_values)\n"
      ],
      "metadata": {
        "execution": {
          "iopub.status.busy": "2024-09-25T20:23:16.160033Z",
          "iopub.execute_input": "2024-09-25T20:23:16.160341Z",
          "iopub.status.idle": "2024-09-25T20:23:16.173646Z",
          "shell.execute_reply.started": "2024-09-25T20:23:16.160308Z",
          "shell.execute_reply": "2024-09-25T20:23:16.17274Z"
        },
        "trusted": true,
        "id": "u7TZvXVPie_i"
      },
      "execution_count": null,
      "outputs": []
    },
    {
      "cell_type": "code",
      "source": [
        "df.head()"
      ],
      "metadata": {
        "execution": {
          "iopub.status.busy": "2024-09-25T20:23:16.174845Z",
          "iopub.execute_input": "2024-09-25T20:23:16.176239Z",
          "iopub.status.idle": "2024-09-25T20:23:16.191574Z",
          "shell.execute_reply.started": "2024-09-25T20:23:16.176196Z",
          "shell.execute_reply": "2024-09-25T20:23:16.19064Z"
        },
        "trusted": true,
        "id": "d4phDefWie_j",
        "outputId": "ffd09f3d-a84b-469e-c4a4-d514dd05ddb6"
      },
      "execution_count": null,
      "outputs": [
        {
          "execution_count": 15,
          "output_type": "execute_result",
          "data": {
            "text/plain": "     rating                                title  \\\n0 -0.116186            B Complex in gel cap form   \n1  0.595891                           Five Stars   \n2  0.595891                           Five Stars   \n3  0.595891         Vitamin Shoppe Dry Vitamin A   \n4  0.595891  Un producto que compro regularmente   \n\n                                                text        asin parent_asin  \\\n0  I bought this along with Vit C in gel cap form...  B00012ND5G  B00012ND5G   \n1                                      great product  B00013Z0ZQ  B00013Z0ZQ   \n2                                 Came as expectedly  B00013Z0ZQ  B00013Z0ZQ   \n3  Excellent Product ..... Fast Delivery ....... ...  B00013Z1KA  B00013Z1KA   \n4                              Es muy buena vitamina  B00013Z1KA  B00013Z1KA   \n\n                        user_id         timestamp  helpful_vote  \\\n0  AGDVFFLJWAQ3ULNNKF4LXID2RVSQ  11-12-2009 00:37             1   \n1  AG3BSKXHDGP6E3EGQD2SXCK6KFQQ  04-01-2015 03:11             0   \n2  AHG2WKFD4LXPC46WWC6JMQGX52JA  27-09-2015 19:15             0   \n3  AEOF7RT3AC4ACRX5HGIP2V3BNIHA           33:16.9             0   \n4  AGW2WETWQRL2PKUGTL2LU7IJ2BPQ           11:10.9             0   \n\n   verified_purchase        date   time  \n0               True  11-12-2009  00:37  \n1               True  04-01-2015  03:11  \n2               True  27-09-2015  19:15  \n3               True  09-02-2019  19:33  \n4               True  25-07-2022  14:11  ",
            "text/html": "<div>\n<style scoped>\n    .dataframe tbody tr th:only-of-type {\n        vertical-align: middle;\n    }\n\n    .dataframe tbody tr th {\n        vertical-align: top;\n    }\n\n    .dataframe thead th {\n        text-align: right;\n    }\n</style>\n<table border=\"1\" class=\"dataframe\">\n  <thead>\n    <tr style=\"text-align: right;\">\n      <th></th>\n      <th>rating</th>\n      <th>title</th>\n      <th>text</th>\n      <th>asin</th>\n      <th>parent_asin</th>\n      <th>user_id</th>\n      <th>timestamp</th>\n      <th>helpful_vote</th>\n      <th>verified_purchase</th>\n      <th>date</th>\n      <th>time</th>\n    </tr>\n  </thead>\n  <tbody>\n    <tr>\n      <th>0</th>\n      <td>-0.116186</td>\n      <td>B Complex in gel cap form</td>\n      <td>I bought this along with Vit C in gel cap form...</td>\n      <td>B00012ND5G</td>\n      <td>B00012ND5G</td>\n      <td>AGDVFFLJWAQ3ULNNKF4LXID2RVSQ</td>\n      <td>11-12-2009 00:37</td>\n      <td>1</td>\n      <td>True</td>\n      <td>11-12-2009</td>\n      <td>00:37</td>\n    </tr>\n    <tr>\n      <th>1</th>\n      <td>0.595891</td>\n      <td>Five Stars</td>\n      <td>great product</td>\n      <td>B00013Z0ZQ</td>\n      <td>B00013Z0ZQ</td>\n      <td>AG3BSKXHDGP6E3EGQD2SXCK6KFQQ</td>\n      <td>04-01-2015 03:11</td>\n      <td>0</td>\n      <td>True</td>\n      <td>04-01-2015</td>\n      <td>03:11</td>\n    </tr>\n    <tr>\n      <th>2</th>\n      <td>0.595891</td>\n      <td>Five Stars</td>\n      <td>Came as expectedly</td>\n      <td>B00013Z0ZQ</td>\n      <td>B00013Z0ZQ</td>\n      <td>AHG2WKFD4LXPC46WWC6JMQGX52JA</td>\n      <td>27-09-2015 19:15</td>\n      <td>0</td>\n      <td>True</td>\n      <td>27-09-2015</td>\n      <td>19:15</td>\n    </tr>\n    <tr>\n      <th>3</th>\n      <td>0.595891</td>\n      <td>Vitamin Shoppe Dry Vitamin A</td>\n      <td>Excellent Product ..... Fast Delivery ....... ...</td>\n      <td>B00013Z1KA</td>\n      <td>B00013Z1KA</td>\n      <td>AEOF7RT3AC4ACRX5HGIP2V3BNIHA</td>\n      <td>33:16.9</td>\n      <td>0</td>\n      <td>True</td>\n      <td>09-02-2019</td>\n      <td>19:33</td>\n    </tr>\n    <tr>\n      <th>4</th>\n      <td>0.595891</td>\n      <td>Un producto que compro regularmente</td>\n      <td>Es muy buena vitamina</td>\n      <td>B00013Z1KA</td>\n      <td>B00013Z1KA</td>\n      <td>AGW2WETWQRL2PKUGTL2LU7IJ2BPQ</td>\n      <td>11:10.9</td>\n      <td>0</td>\n      <td>True</td>\n      <td>25-07-2022</td>\n      <td>14:11</td>\n    </tr>\n  </tbody>\n</table>\n</div>"
          },
          "metadata": {}
        }
      ]
    },
    {
      "cell_type": "markdown",
      "source": [
        "**Data Cleaning**"
      ],
      "metadata": {
        "id": "2Ds0hJjdie_k"
      }
    },
    {
      "cell_type": "code",
      "source": [
        "nlp = spacy.load('en_core_web_sm')\n",
        "\n",
        "# Function to clean text using spaCy\n",
        "def clean_text(txt):\n",
        "    doc = nlp(txt)\n",
        "    cleaned_words = [token.lemma_.lower() for token in doc if not token.is_stop]\n",
        "    return ' '.join(cleaned_words)"
      ],
      "metadata": {
        "execution": {
          "iopub.status.busy": "2024-09-25T20:23:16.192695Z",
          "iopub.execute_input": "2024-09-25T20:23:16.193064Z",
          "iopub.status.idle": "2024-09-25T20:23:17.336295Z",
          "shell.execute_reply.started": "2024-09-25T20:23:16.193007Z",
          "shell.execute_reply": "2024-09-25T20:23:17.335475Z"
        },
        "trusted": true,
        "id": "NESx_vO7ie_m"
      },
      "execution_count": null,
      "outputs": []
    },
    {
      "cell_type": "code",
      "source": [
        "# Clean the 'text' and 'title' columns\n",
        "df['text'] = df['text'].apply(clean_text)\n",
        "df['title'] = df['title'].apply(clean_text)\n",
        "\n",
        "# Combine 'title' and 'text' into a single sequence\n",
        "df['combined_text'] = df['title'] + ' ' + df['text']"
      ],
      "metadata": {
        "execution": {
          "iopub.status.busy": "2024-09-25T20:23:17.337361Z",
          "iopub.execute_input": "2024-09-25T20:23:17.337637Z",
          "iopub.status.idle": "2024-09-25T20:27:27.999418Z",
          "shell.execute_reply.started": "2024-09-25T20:23:17.337606Z",
          "shell.execute_reply": "2024-09-25T20:27:27.998582Z"
        },
        "trusted": true,
        "id": "LH9z4dN5ie_n"
      },
      "execution_count": null,
      "outputs": []
    },
    {
      "cell_type": "code",
      "source": [
        "df"
      ],
      "metadata": {
        "execution": {
          "iopub.status.busy": "2024-09-25T20:27:28.000793Z",
          "iopub.execute_input": "2024-09-25T20:27:28.001222Z",
          "iopub.status.idle": "2024-09-25T20:27:28.022934Z",
          "shell.execute_reply.started": "2024-09-25T20:27:28.001175Z",
          "shell.execute_reply": "2024-09-25T20:27:28.021979Z"
        },
        "trusted": true,
        "id": "q1CqS17Zie_o",
        "outputId": "4a543f1f-b3a5-4bb0-a65a-36724d6435ce"
      },
      "execution_count": null,
      "outputs": [
        {
          "execution_count": 18,
          "output_type": "execute_result",
          "data": {
            "text/plain": "         rating                                title  \\\n0     -0.116186               b complex gel cap form   \n1      0.595891                                 star   \n2      0.595891                                 star   \n3      0.595891           vitamin shoppe dry vitamin   \n4      0.595891  un producto que compro regularmente   \n...         ...                                  ...   \n16664  0.595891                               love !   \n16665  0.595891                                use !   \n16666  0.595891                           work great   \n16667 -0.116186         product unbelievably perfect   \n16668  0.595891                                  use   \n\n                                                    text        asin  \\\n0      buy vit c gel cap form doctor explain website ...  B00012ND5G   \n1                                          great product  B00013Z0ZQ   \n2                                        come expectedly  B00013Z0ZQ   \n3      excellent product ..... fast delivery ....... ...  B00013Z1KA   \n4                                  es muy buena vitamina  B00013Z1KA   \n...                                                  ...         ...   \n16664                   gel ! hands , arm , foot happy 😊  B0009VO8EO   \n16665  love gel skin .   use banana boat brand find a...  B0009VO8EO   \n16666                                    easy use work .  B0009VO8EO   \n16667  surgery doctor recommend healing scaring .   u...  B0009VO8EO   \n16668  hair braider renaissance fair teach use slight...  B0009VO8EO   \n\n      parent_asin                       user_id         timestamp  \\\n0      B00012ND5G  AGDVFFLJWAQ3ULNNKF4LXID2RVSQ  11-12-2009 00:37   \n1      B00013Z0ZQ  AG3BSKXHDGP6E3EGQD2SXCK6KFQQ  04-01-2015 03:11   \n2      B00013Z0ZQ  AHG2WKFD4LXPC46WWC6JMQGX52JA  27-09-2015 19:15   \n3      B00013Z1KA  AEOF7RT3AC4ACRX5HGIP2V3BNIHA           33:16.9   \n4      B00013Z1KA  AGW2WETWQRL2PKUGTL2LU7IJ2BPQ           11:10.9   \n...           ...                           ...               ...   \n16664  B0C7RQ35K7  AFUCOHHPFBX6RHHUW7OGFHSBQ5KQ           23:51.5   \n16665  B0C7RQ35K7  AEKMUWW2ZDLOOKNL6QFX7DRKCNEQ           21:03.2   \n16666  B0C7RQ35K7  AF3GLUKTNSQN4YYV6II2JU3LHS2Q           46:27.7   \n16667  B0C7RQ35K7  AECDMI6JKOAPXNCYCWSKQQPEO6YQ           19:10.3   \n16668  B0C7RQ35K7  AEHWPGRE2DYRGUKJPNFFJBYKNUPQ           25:02.8   \n\n       helpful_vote  verified_purchase        date   time  \\\n0                 1               True  11-12-2009  00:37   \n1                 0               True  04-01-2015  03:11   \n2                 0               True  27-09-2015  19:15   \n3                 0               True  09-02-2019  19:33   \n4                 0               True  25-07-2022  14:11   \n...             ...                ...         ...    ...   \n16664             0               True  26-10-2022  12:23   \n16665             0               True  01-12-2022  16:21   \n16666             0               True  11-01-2023  19:46   \n16667             0               True  17-03-2023  11:19   \n16668             2               True  03-07-2023  03:25   \n\n                                           combined_text  \n0      b complex gel cap form buy vit c gel cap form ...  \n1                                     star great product  \n2                                   star come expectedly  \n3      vitamin shoppe dry vitamin excellent product ....  \n4      un producto que compro regularmente es muy bue...  \n...                                                  ...  \n16664            love ! gel ! hands , arm , foot happy 😊  \n16665  use ! love gel skin .   use banana boat brand ...  \n16666                         work great easy use work .  \n16667  product unbelievably perfect surgery doctor re...  \n16668  use hair braider renaissance fair teach use sl...  \n\n[16658 rows x 12 columns]",
            "text/html": "<div>\n<style scoped>\n    .dataframe tbody tr th:only-of-type {\n        vertical-align: middle;\n    }\n\n    .dataframe tbody tr th {\n        vertical-align: top;\n    }\n\n    .dataframe thead th {\n        text-align: right;\n    }\n</style>\n<table border=\"1\" class=\"dataframe\">\n  <thead>\n    <tr style=\"text-align: right;\">\n      <th></th>\n      <th>rating</th>\n      <th>title</th>\n      <th>text</th>\n      <th>asin</th>\n      <th>parent_asin</th>\n      <th>user_id</th>\n      <th>timestamp</th>\n      <th>helpful_vote</th>\n      <th>verified_purchase</th>\n      <th>date</th>\n      <th>time</th>\n      <th>combined_text</th>\n    </tr>\n  </thead>\n  <tbody>\n    <tr>\n      <th>0</th>\n      <td>-0.116186</td>\n      <td>b complex gel cap form</td>\n      <td>buy vit c gel cap form doctor explain website ...</td>\n      <td>B00012ND5G</td>\n      <td>B00012ND5G</td>\n      <td>AGDVFFLJWAQ3ULNNKF4LXID2RVSQ</td>\n      <td>11-12-2009 00:37</td>\n      <td>1</td>\n      <td>True</td>\n      <td>11-12-2009</td>\n      <td>00:37</td>\n      <td>b complex gel cap form buy vit c gel cap form ...</td>\n    </tr>\n    <tr>\n      <th>1</th>\n      <td>0.595891</td>\n      <td>star</td>\n      <td>great product</td>\n      <td>B00013Z0ZQ</td>\n      <td>B00013Z0ZQ</td>\n      <td>AG3BSKXHDGP6E3EGQD2SXCK6KFQQ</td>\n      <td>04-01-2015 03:11</td>\n      <td>0</td>\n      <td>True</td>\n      <td>04-01-2015</td>\n      <td>03:11</td>\n      <td>star great product</td>\n    </tr>\n    <tr>\n      <th>2</th>\n      <td>0.595891</td>\n      <td>star</td>\n      <td>come expectedly</td>\n      <td>B00013Z0ZQ</td>\n      <td>B00013Z0ZQ</td>\n      <td>AHG2WKFD4LXPC46WWC6JMQGX52JA</td>\n      <td>27-09-2015 19:15</td>\n      <td>0</td>\n      <td>True</td>\n      <td>27-09-2015</td>\n      <td>19:15</td>\n      <td>star come expectedly</td>\n    </tr>\n    <tr>\n      <th>3</th>\n      <td>0.595891</td>\n      <td>vitamin shoppe dry vitamin</td>\n      <td>excellent product ..... fast delivery ....... ...</td>\n      <td>B00013Z1KA</td>\n      <td>B00013Z1KA</td>\n      <td>AEOF7RT3AC4ACRX5HGIP2V3BNIHA</td>\n      <td>33:16.9</td>\n      <td>0</td>\n      <td>True</td>\n      <td>09-02-2019</td>\n      <td>19:33</td>\n      <td>vitamin shoppe dry vitamin excellent product ....</td>\n    </tr>\n    <tr>\n      <th>4</th>\n      <td>0.595891</td>\n      <td>un producto que compro regularmente</td>\n      <td>es muy buena vitamina</td>\n      <td>B00013Z1KA</td>\n      <td>B00013Z1KA</td>\n      <td>AGW2WETWQRL2PKUGTL2LU7IJ2BPQ</td>\n      <td>11:10.9</td>\n      <td>0</td>\n      <td>True</td>\n      <td>25-07-2022</td>\n      <td>14:11</td>\n      <td>un producto que compro regularmente es muy bue...</td>\n    </tr>\n    <tr>\n      <th>...</th>\n      <td>...</td>\n      <td>...</td>\n      <td>...</td>\n      <td>...</td>\n      <td>...</td>\n      <td>...</td>\n      <td>...</td>\n      <td>...</td>\n      <td>...</td>\n      <td>...</td>\n      <td>...</td>\n      <td>...</td>\n    </tr>\n    <tr>\n      <th>16664</th>\n      <td>0.595891</td>\n      <td>love !</td>\n      <td>gel ! hands , arm , foot happy 😊</td>\n      <td>B0009VO8EO</td>\n      <td>B0C7RQ35K7</td>\n      <td>AFUCOHHPFBX6RHHUW7OGFHSBQ5KQ</td>\n      <td>23:51.5</td>\n      <td>0</td>\n      <td>True</td>\n      <td>26-10-2022</td>\n      <td>12:23</td>\n      <td>love ! gel ! hands , arm , foot happy 😊</td>\n    </tr>\n    <tr>\n      <th>16665</th>\n      <td>0.595891</td>\n      <td>use !</td>\n      <td>love gel skin .   use banana boat brand find a...</td>\n      <td>B0009VO8EO</td>\n      <td>B0C7RQ35K7</td>\n      <td>AEKMUWW2ZDLOOKNL6QFX7DRKCNEQ</td>\n      <td>21:03.2</td>\n      <td>0</td>\n      <td>True</td>\n      <td>01-12-2022</td>\n      <td>16:21</td>\n      <td>use ! love gel skin .   use banana boat brand ...</td>\n    </tr>\n    <tr>\n      <th>16666</th>\n      <td>0.595891</td>\n      <td>work great</td>\n      <td>easy use work .</td>\n      <td>B0009VO8EO</td>\n      <td>B0C7RQ35K7</td>\n      <td>AF3GLUKTNSQN4YYV6II2JU3LHS2Q</td>\n      <td>46:27.7</td>\n      <td>0</td>\n      <td>True</td>\n      <td>11-01-2023</td>\n      <td>19:46</td>\n      <td>work great easy use work .</td>\n    </tr>\n    <tr>\n      <th>16667</th>\n      <td>-0.116186</td>\n      <td>product unbelievably perfect</td>\n      <td>surgery doctor recommend healing scaring .   u...</td>\n      <td>B0009VO8EO</td>\n      <td>B0C7RQ35K7</td>\n      <td>AECDMI6JKOAPXNCYCWSKQQPEO6YQ</td>\n      <td>19:10.3</td>\n      <td>0</td>\n      <td>True</td>\n      <td>17-03-2023</td>\n      <td>11:19</td>\n      <td>product unbelievably perfect surgery doctor re...</td>\n    </tr>\n    <tr>\n      <th>16668</th>\n      <td>0.595891</td>\n      <td>use</td>\n      <td>hair braider renaissance fair teach use slight...</td>\n      <td>B0009VO8EO</td>\n      <td>B0C7RQ35K7</td>\n      <td>AEHWPGRE2DYRGUKJPNFFJBYKNUPQ</td>\n      <td>25:02.8</td>\n      <td>2</td>\n      <td>True</td>\n      <td>03-07-2023</td>\n      <td>03:25</td>\n      <td>use hair braider renaissance fair teach use sl...</td>\n    </tr>\n  </tbody>\n</table>\n<p>16658 rows × 12 columns</p>\n</div>"
          },
          "metadata": {}
        }
      ]
    },
    {
      "cell_type": "markdown",
      "source": [
        "**Tokenize**"
      ],
      "metadata": {
        "id": "v4-F2cnZie_p"
      }
    },
    {
      "cell_type": "code",
      "source": [
        "# Initialize the Tokenizer with a limited vocabulary size\n",
        "max_words = 9000\n",
        "tokenizer = Tokenizer(num_words=max_words)\n",
        "tokenizer.fit_on_texts(df['combined_text'])"
      ],
      "metadata": {
        "execution": {
          "iopub.status.busy": "2024-09-25T20:27:28.024058Z",
          "iopub.execute_input": "2024-09-25T20:27:28.024341Z",
          "iopub.status.idle": "2024-09-25T20:27:28.429673Z",
          "shell.execute_reply.started": "2024-09-25T20:27:28.02431Z",
          "shell.execute_reply": "2024-09-25T20:27:28.428671Z"
        },
        "trusted": true,
        "id": "DLFEKpJ1ie_q"
      },
      "execution_count": null,
      "outputs": []
    },
    {
      "cell_type": "code",
      "source": [
        "# Define maximum sequence length\n",
        "max_sequence_len = 80"
      ],
      "metadata": {
        "execution": {
          "iopub.status.busy": "2024-09-25T20:27:28.430868Z",
          "iopub.execute_input": "2024-09-25T20:27:28.431161Z",
          "iopub.status.idle": "2024-09-25T20:27:28.435358Z",
          "shell.execute_reply.started": "2024-09-25T20:27:28.43113Z",
          "shell.execute_reply": "2024-09-25T20:27:28.434408Z"
        },
        "trusted": true,
        "id": "xyeQpERRie_r"
      },
      "execution_count": null,
      "outputs": []
    },
    {
      "cell_type": "code",
      "source": [
        "# Function to generate sequences and associate ratings\n",
        "def generate_sequences_with_ratings(texts, ratings, tokenizer):\n",
        "    sequences = []\n",
        "    ratings_list = []\n",
        "    for text, rating in zip(texts, ratings):\n",
        "        token_list = tokenizer.texts_to_sequences([text])[0]\n",
        "        for i in range(1, len(token_list)):\n",
        "            n_gram_sequence = token_list[:i+1]\n",
        "            if len(n_gram_sequence) > max_sequence_len:\n",
        "                n_gram_sequence = n_gram_sequence[-max_sequence_len:]\n",
        "            sequences.append(n_gram_sequence)\n",
        "            ratings_list.append(rating)\n",
        "    return sequences, ratings_list"
      ],
      "metadata": {
        "execution": {
          "iopub.status.busy": "2024-09-25T20:27:28.436535Z",
          "iopub.execute_input": "2024-09-25T20:27:28.436855Z",
          "iopub.status.idle": "2024-09-25T20:27:28.446952Z",
          "shell.execute_reply.started": "2024-09-25T20:27:28.436823Z",
          "shell.execute_reply": "2024-09-25T20:27:28.445729Z"
        },
        "trusted": true,
        "id": "3GGoG8YJie_s"
      },
      "execution_count": null,
      "outputs": []
    },
    {
      "cell_type": "code",
      "source": [
        "# Generate sequences and associated ratings\n",
        "input_sequences, ratings_list = generate_sequences_with_ratings(df['combined_text'], df['rating'], tokenizer)\n",
        "\n",
        "# Pad sequences\n",
        "padded_sequences = pad_sequences(input_sequences, maxlen=max_sequence_len, padding='pre')\n"
      ],
      "metadata": {
        "execution": {
          "iopub.status.busy": "2024-09-25T20:27:28.448301Z",
          "iopub.execute_input": "2024-09-25T20:27:28.450953Z",
          "iopub.status.idle": "2024-09-25T20:27:30.545397Z",
          "shell.execute_reply.started": "2024-09-25T20:27:28.450906Z",
          "shell.execute_reply": "2024-09-25T20:27:30.544548Z"
        },
        "trusted": true,
        "id": "hUx34l_Mie_4"
      },
      "execution_count": null,
      "outputs": []
    },
    {
      "cell_type": "code",
      "source": [
        "# Separate predictors and label\n",
        "predictors, label = padded_sequences[:, :-1], padded_sequences[:, -1]\n",
        "\n",
        "# One-hot encode labels\n",
        "label = to_categorical(label, num_classes=max_words)\n",
        "\n",
        "# Convert ratings list to numpy array\n",
        "ratings_array = np.array(ratings_list)\n"
      ],
      "metadata": {
        "execution": {
          "iopub.status.busy": "2024-09-25T20:27:30.546537Z",
          "iopub.execute_input": "2024-09-25T20:27:30.546867Z",
          "iopub.status.idle": "2024-09-25T20:27:31.16611Z",
          "shell.execute_reply.started": "2024-09-25T20:27:30.546832Z",
          "shell.execute_reply": "2024-09-25T20:27:31.165074Z"
        },
        "trusted": true,
        "id": "6g8b3094ifCh"
      },
      "execution_count": null,
      "outputs": []
    },
    {
      "cell_type": "code",
      "source": [
        "# Define the model with attention mechanism\n",
        "def create_model_with_attention(max_words, max_sequence_len):\n",
        "    # Input for text sequences\n",
        "    input_seq = Input(shape=(max_sequence_len - 1,))\n",
        "    x = Embedding(max_words, 100, input_length=max_sequence_len - 1)(input_seq)\n",
        "\n",
        "    # Bidirectional LSTM\n",
        "    lstm_out = Bidirectional(LSTM(128, return_sequences=True))(x)\n",
        "\n",
        "    # Apply attention mechanism\n",
        "    attention = Attention()([lstm_out, lstm_out])  # Self-attention\n",
        "\n",
        "    # Global average pooling\n",
        "    attention_out = GlobalAveragePooling1D()(attention)\n",
        "\n",
        "    # Input for rating\n",
        "    input_rating = Input(shape=(1,))\n",
        "\n",
        "    # Concatenate attention output and rating input\n",
        "    combined = concatenate([attention_out, input_rating])\n",
        "\n",
        "    # Fully connected layers\n",
        "    dense_out = Dense(128, activation='relu')(combined)\n",
        "    drop_out = Dropout(0.3)(dense_out)\n",
        "\n",
        "    # Output layer\n",
        "    output_layer = Dense(max_words, activation='softmax')(drop_out)\n",
        "\n",
        "    # Define the model with two inputs and one output\n",
        "    model = Model(inputs=[input_seq, input_rating], outputs=output_layer)\n",
        "    model.compile(loss='categorical_crossentropy', optimizer='adam')\n",
        "\n",
        "    return model\n",
        "\n",
        "# Create and compile the model\n",
        "model = create_model_with_attention(max_words, max_sequence_len)\n",
        "model.summary()"
      ],
      "metadata": {
        "execution": {
          "iopub.status.busy": "2024-09-25T20:27:31.169553Z",
          "iopub.execute_input": "2024-09-25T20:27:31.169895Z",
          "iopub.status.idle": "2024-09-25T20:27:32.891781Z",
          "shell.execute_reply.started": "2024-09-25T20:27:31.16986Z",
          "shell.execute_reply": "2024-09-25T20:27:32.89095Z"
        },
        "trusted": true,
        "id": "Lby8a3xXifCh",
        "outputId": "5c168e17-bc6b-431e-8b61-75a45b4cb542"
      },
      "execution_count": null,
      "outputs": [
        {
          "output_type": "display_data",
          "data": {
            "text/plain": "\u001b[1mModel: \"functional_1\"\u001b[0m\n",
            "text/html": "<pre style=\"white-space:pre;overflow-x:auto;line-height:normal;font-family:Menlo,'DejaVu Sans Mono',consolas,'Courier New',monospace\"><span style=\"font-weight: bold\">Model: \"functional_1\"</span>\n</pre>\n"
          },
          "metadata": {}
        },
        {
          "output_type": "display_data",
          "data": {
            "text/plain": "┏━━━━━━━━━━━━━━━━━━━━━┳━━━━━━━━━━━━━━━━━━━┳━━━━━━━━━━━━┳━━━━━━━━━━━━━━━━━━━┓\n┃\u001b[1m \u001b[0m\u001b[1mLayer (type)       \u001b[0m\u001b[1m \u001b[0m┃\u001b[1m \u001b[0m\u001b[1mOutput Shape     \u001b[0m\u001b[1m \u001b[0m┃\u001b[1m \u001b[0m\u001b[1m   Param #\u001b[0m\u001b[1m \u001b[0m┃\u001b[1m \u001b[0m\u001b[1mConnected to     \u001b[0m\u001b[1m \u001b[0m┃\n┡━━━━━━━━━━━━━━━━━━━━━╇━━━━━━━━━━━━━━━━━━━╇━━━━━━━━━━━━╇━━━━━━━━━━━━━━━━━━━┩\n│ input_layer         │ (\u001b[38;5;45mNone\u001b[0m, \u001b[38;5;34m79\u001b[0m)        │          \u001b[38;5;34m0\u001b[0m │ -                 │\n│ (\u001b[38;5;33mInputLayer\u001b[0m)        │                   │            │                   │\n├─────────────────────┼───────────────────┼────────────┼───────────────────┤\n│ embedding           │ (\u001b[38;5;45mNone\u001b[0m, \u001b[38;5;34m79\u001b[0m, \u001b[38;5;34m100\u001b[0m)   │    \u001b[38;5;34m900,000\u001b[0m │ input_layer[\u001b[38;5;34m0\u001b[0m][\u001b[38;5;34m0\u001b[0m] │\n│ (\u001b[38;5;33mEmbedding\u001b[0m)         │                   │            │                   │\n├─────────────────────┼───────────────────┼────────────┼───────────────────┤\n│ bidirectional       │ (\u001b[38;5;45mNone\u001b[0m, \u001b[38;5;34m79\u001b[0m, \u001b[38;5;34m256\u001b[0m)   │    \u001b[38;5;34m234,496\u001b[0m │ embedding[\u001b[38;5;34m0\u001b[0m][\u001b[38;5;34m0\u001b[0m]   │\n│ (\u001b[38;5;33mBidirectional\u001b[0m)     │                   │            │                   │\n├─────────────────────┼───────────────────┼────────────┼───────────────────┤\n│ attention           │ (\u001b[38;5;45mNone\u001b[0m, \u001b[38;5;34m79\u001b[0m, \u001b[38;5;34m256\u001b[0m)   │          \u001b[38;5;34m0\u001b[0m │ bidirectional[\u001b[38;5;34m0\u001b[0m]… │\n│ (\u001b[38;5;33mAttention\u001b[0m)         │                   │            │ bidirectional[\u001b[38;5;34m0\u001b[0m]… │\n├─────────────────────┼───────────────────┼────────────┼───────────────────┤\n│ global_average_poo… │ (\u001b[38;5;45mNone\u001b[0m, \u001b[38;5;34m256\u001b[0m)       │          \u001b[38;5;34m0\u001b[0m │ attention[\u001b[38;5;34m0\u001b[0m][\u001b[38;5;34m0\u001b[0m]   │\n│ (\u001b[38;5;33mGlobalAveragePool…\u001b[0m │                   │            │                   │\n├─────────────────────┼───────────────────┼────────────┼───────────────────┤\n│ input_layer_1       │ (\u001b[38;5;45mNone\u001b[0m, \u001b[38;5;34m1\u001b[0m)         │          \u001b[38;5;34m0\u001b[0m │ -                 │\n│ (\u001b[38;5;33mInputLayer\u001b[0m)        │                   │            │                   │\n├─────────────────────┼───────────────────┼────────────┼───────────────────┤\n│ concatenate         │ (\u001b[38;5;45mNone\u001b[0m, \u001b[38;5;34m257\u001b[0m)       │          \u001b[38;5;34m0\u001b[0m │ global_average_p… │\n│ (\u001b[38;5;33mConcatenate\u001b[0m)       │                   │            │ input_layer_1[\u001b[38;5;34m0\u001b[0m]… │\n├─────────────────────┼───────────────────┼────────────┼───────────────────┤\n│ dense (\u001b[38;5;33mDense\u001b[0m)       │ (\u001b[38;5;45mNone\u001b[0m, \u001b[38;5;34m128\u001b[0m)       │     \u001b[38;5;34m33,024\u001b[0m │ concatenate[\u001b[38;5;34m0\u001b[0m][\u001b[38;5;34m0\u001b[0m] │\n├─────────────────────┼───────────────────┼────────────┼───────────────────┤\n│ dropout (\u001b[38;5;33mDropout\u001b[0m)   │ (\u001b[38;5;45mNone\u001b[0m, \u001b[38;5;34m128\u001b[0m)       │          \u001b[38;5;34m0\u001b[0m │ dense[\u001b[38;5;34m0\u001b[0m][\u001b[38;5;34m0\u001b[0m]       │\n├─────────────────────┼───────────────────┼────────────┼───────────────────┤\n│ dense_1 (\u001b[38;5;33mDense\u001b[0m)     │ (\u001b[38;5;45mNone\u001b[0m, \u001b[38;5;34m9000\u001b[0m)      │  \u001b[38;5;34m1,161,000\u001b[0m │ dropout[\u001b[38;5;34m0\u001b[0m][\u001b[38;5;34m0\u001b[0m]     │\n└─────────────────────┴───────────────────┴────────────┴───────────────────┘\n",
            "text/html": "<pre style=\"white-space:pre;overflow-x:auto;line-height:normal;font-family:Menlo,'DejaVu Sans Mono',consolas,'Courier New',monospace\">┏━━━━━━━━━━━━━━━━━━━━━┳━━━━━━━━━━━━━━━━━━━┳━━━━━━━━━━━━┳━━━━━━━━━━━━━━━━━━━┓\n┃<span style=\"font-weight: bold\"> Layer (type)        </span>┃<span style=\"font-weight: bold\"> Output Shape      </span>┃<span style=\"font-weight: bold\">    Param # </span>┃<span style=\"font-weight: bold\"> Connected to      </span>┃\n┡━━━━━━━━━━━━━━━━━━━━━╇━━━━━━━━━━━━━━━━━━━╇━━━━━━━━━━━━╇━━━━━━━━━━━━━━━━━━━┩\n│ input_layer         │ (<span style=\"color: #00d7ff; text-decoration-color: #00d7ff\">None</span>, <span style=\"color: #00af00; text-decoration-color: #00af00\">79</span>)        │          <span style=\"color: #00af00; text-decoration-color: #00af00\">0</span> │ -                 │\n│ (<span style=\"color: #0087ff; text-decoration-color: #0087ff\">InputLayer</span>)        │                   │            │                   │\n├─────────────────────┼───────────────────┼────────────┼───────────────────┤\n│ embedding           │ (<span style=\"color: #00d7ff; text-decoration-color: #00d7ff\">None</span>, <span style=\"color: #00af00; text-decoration-color: #00af00\">79</span>, <span style=\"color: #00af00; text-decoration-color: #00af00\">100</span>)   │    <span style=\"color: #00af00; text-decoration-color: #00af00\">900,000</span> │ input_layer[<span style=\"color: #00af00; text-decoration-color: #00af00\">0</span>][<span style=\"color: #00af00; text-decoration-color: #00af00\">0</span>] │\n│ (<span style=\"color: #0087ff; text-decoration-color: #0087ff\">Embedding</span>)         │                   │            │                   │\n├─────────────────────┼───────────────────┼────────────┼───────────────────┤\n│ bidirectional       │ (<span style=\"color: #00d7ff; text-decoration-color: #00d7ff\">None</span>, <span style=\"color: #00af00; text-decoration-color: #00af00\">79</span>, <span style=\"color: #00af00; text-decoration-color: #00af00\">256</span>)   │    <span style=\"color: #00af00; text-decoration-color: #00af00\">234,496</span> │ embedding[<span style=\"color: #00af00; text-decoration-color: #00af00\">0</span>][<span style=\"color: #00af00; text-decoration-color: #00af00\">0</span>]   │\n│ (<span style=\"color: #0087ff; text-decoration-color: #0087ff\">Bidirectional</span>)     │                   │            │                   │\n├─────────────────────┼───────────────────┼────────────┼───────────────────┤\n│ attention           │ (<span style=\"color: #00d7ff; text-decoration-color: #00d7ff\">None</span>, <span style=\"color: #00af00; text-decoration-color: #00af00\">79</span>, <span style=\"color: #00af00; text-decoration-color: #00af00\">256</span>)   │          <span style=\"color: #00af00; text-decoration-color: #00af00\">0</span> │ bidirectional[<span style=\"color: #00af00; text-decoration-color: #00af00\">0</span>]… │\n│ (<span style=\"color: #0087ff; text-decoration-color: #0087ff\">Attention</span>)         │                   │            │ bidirectional[<span style=\"color: #00af00; text-decoration-color: #00af00\">0</span>]… │\n├─────────────────────┼───────────────────┼────────────┼───────────────────┤\n│ global_average_poo… │ (<span style=\"color: #00d7ff; text-decoration-color: #00d7ff\">None</span>, <span style=\"color: #00af00; text-decoration-color: #00af00\">256</span>)       │          <span style=\"color: #00af00; text-decoration-color: #00af00\">0</span> │ attention[<span style=\"color: #00af00; text-decoration-color: #00af00\">0</span>][<span style=\"color: #00af00; text-decoration-color: #00af00\">0</span>]   │\n│ (<span style=\"color: #0087ff; text-decoration-color: #0087ff\">GlobalAveragePool…</span> │                   │            │                   │\n├─────────────────────┼───────────────────┼────────────┼───────────────────┤\n│ input_layer_1       │ (<span style=\"color: #00d7ff; text-decoration-color: #00d7ff\">None</span>, <span style=\"color: #00af00; text-decoration-color: #00af00\">1</span>)         │          <span style=\"color: #00af00; text-decoration-color: #00af00\">0</span> │ -                 │\n│ (<span style=\"color: #0087ff; text-decoration-color: #0087ff\">InputLayer</span>)        │                   │            │                   │\n├─────────────────────┼───────────────────┼────────────┼───────────────────┤\n│ concatenate         │ (<span style=\"color: #00d7ff; text-decoration-color: #00d7ff\">None</span>, <span style=\"color: #00af00; text-decoration-color: #00af00\">257</span>)       │          <span style=\"color: #00af00; text-decoration-color: #00af00\">0</span> │ global_average_p… │\n│ (<span style=\"color: #0087ff; text-decoration-color: #0087ff\">Concatenate</span>)       │                   │            │ input_layer_1[<span style=\"color: #00af00; text-decoration-color: #00af00\">0</span>]… │\n├─────────────────────┼───────────────────┼────────────┼───────────────────┤\n│ dense (<span style=\"color: #0087ff; text-decoration-color: #0087ff\">Dense</span>)       │ (<span style=\"color: #00d7ff; text-decoration-color: #00d7ff\">None</span>, <span style=\"color: #00af00; text-decoration-color: #00af00\">128</span>)       │     <span style=\"color: #00af00; text-decoration-color: #00af00\">33,024</span> │ concatenate[<span style=\"color: #00af00; text-decoration-color: #00af00\">0</span>][<span style=\"color: #00af00; text-decoration-color: #00af00\">0</span>] │\n├─────────────────────┼───────────────────┼────────────┼───────────────────┤\n│ dropout (<span style=\"color: #0087ff; text-decoration-color: #0087ff\">Dropout</span>)   │ (<span style=\"color: #00d7ff; text-decoration-color: #00d7ff\">None</span>, <span style=\"color: #00af00; text-decoration-color: #00af00\">128</span>)       │          <span style=\"color: #00af00; text-decoration-color: #00af00\">0</span> │ dense[<span style=\"color: #00af00; text-decoration-color: #00af00\">0</span>][<span style=\"color: #00af00; text-decoration-color: #00af00\">0</span>]       │\n├─────────────────────┼───────────────────┼────────────┼───────────────────┤\n│ dense_1 (<span style=\"color: #0087ff; text-decoration-color: #0087ff\">Dense</span>)     │ (<span style=\"color: #00d7ff; text-decoration-color: #00d7ff\">None</span>, <span style=\"color: #00af00; text-decoration-color: #00af00\">9000</span>)      │  <span style=\"color: #00af00; text-decoration-color: #00af00\">1,161,000</span> │ dropout[<span style=\"color: #00af00; text-decoration-color: #00af00\">0</span>][<span style=\"color: #00af00; text-decoration-color: #00af00\">0</span>]     │\n└─────────────────────┴───────────────────┴────────────┴───────────────────┘\n</pre>\n"
          },
          "metadata": {}
        },
        {
          "output_type": "display_data",
          "data": {
            "text/plain": "\u001b[1m Total params: \u001b[0m\u001b[38;5;34m2,328,520\u001b[0m (8.88 MB)\n",
            "text/html": "<pre style=\"white-space:pre;overflow-x:auto;line-height:normal;font-family:Menlo,'DejaVu Sans Mono',consolas,'Courier New',monospace\"><span style=\"font-weight: bold\"> Total params: </span><span style=\"color: #00af00; text-decoration-color: #00af00\">2,328,520</span> (8.88 MB)\n</pre>\n"
          },
          "metadata": {}
        },
        {
          "output_type": "display_data",
          "data": {
            "text/plain": "\u001b[1m Trainable params: \u001b[0m\u001b[38;5;34m2,328,520\u001b[0m (8.88 MB)\n",
            "text/html": "<pre style=\"white-space:pre;overflow-x:auto;line-height:normal;font-family:Menlo,'DejaVu Sans Mono',consolas,'Courier New',monospace\"><span style=\"font-weight: bold\"> Trainable params: </span><span style=\"color: #00af00; text-decoration-color: #00af00\">2,328,520</span> (8.88 MB)\n</pre>\n"
          },
          "metadata": {}
        },
        {
          "output_type": "display_data",
          "data": {
            "text/plain": "\u001b[1m Non-trainable params: \u001b[0m\u001b[38;5;34m0\u001b[0m (0.00 B)\n",
            "text/html": "<pre style=\"white-space:pre;overflow-x:auto;line-height:normal;font-family:Menlo,'DejaVu Sans Mono',consolas,'Courier New',monospace\"><span style=\"font-weight: bold\"> Non-trainable params: </span><span style=\"color: #00af00; text-decoration-color: #00af00\">0</span> (0.00 B)\n</pre>\n"
          },
          "metadata": {}
        }
      ]
    },
    {
      "cell_type": "code",
      "source": [
        "# Train the model\n",
        "batch_size = 40\n",
        "epochs = 100\n",
        "\n",
        "# Early stopping to prevent overfitting\n",
        "early_stopping = EarlyStopping(monitor='loss', patience=2)\n",
        "\n",
        "history = model.fit(\n",
        "    [predictors, ratings_array],\n",
        "    label,\n",
        "    epochs=epochs,\n",
        "    batch_size=batch_size,\n",
        "    verbose=1,\n",
        "    callbacks=[early_stopping]\n",
        ")\n",
        "\n",
        "print(\"Model training completed.\")"
      ],
      "metadata": {
        "execution": {
          "iopub.status.busy": "2024-09-25T17:03:00.944225Z",
          "iopub.execute_input": "2024-09-25T17:03:00.944611Z",
          "iopub.status.idle": "2024-09-25T18:00:30.319603Z",
          "shell.execute_reply.started": "2024-09-25T17:03:00.944575Z",
          "shell.execute_reply": "2024-09-25T18:00:30.318649Z"
        },
        "trusted": true,
        "id": "WSv1SZQ0ifCk",
        "outputId": "e941cc64-4aa4-4b05-d4fa-52326c00cbbe"
      },
      "execution_count": null,
      "outputs": [
        {
          "name": "stdout",
          "text": "Epoch 1/40\n\u001b[1m7936/7936\u001b[0m \u001b[32m━━━━━━━━━━━━━━━━━━━━\u001b[0m\u001b[37m\u001b[0m \u001b[1m93s\u001b[0m 11ms/step - loss: 7.1826\nEpoch 2/40\n\u001b[1m7936/7936\u001b[0m \u001b[32m━━━━━━━━━━━━━━━━━━━━\u001b[0m\u001b[37m\u001b[0m \u001b[1m85s\u001b[0m 11ms/step - loss: 6.7849\nEpoch 3/40\n\u001b[1m7936/7936\u001b[0m \u001b[32m━━━━━━━━━━━━━━━━━━━━\u001b[0m\u001b[37m\u001b[0m \u001b[1m84s\u001b[0m 11ms/step - loss: 6.5587\nEpoch 4/40\n\u001b[1m7936/7936\u001b[0m \u001b[32m━━━━━━━━━━━━━━━━━━━━\u001b[0m\u001b[37m\u001b[0m \u001b[1m85s\u001b[0m 11ms/step - loss: 6.4017\nEpoch 5/40\n\u001b[1m7936/7936\u001b[0m \u001b[32m━━━━━━━━━━━━━━━━━━━━\u001b[0m\u001b[37m\u001b[0m \u001b[1m86s\u001b[0m 11ms/step - loss: 6.2808\nEpoch 6/40\n\u001b[1m7936/7936\u001b[0m \u001b[32m━━━━━━━━━━━━━━━━━━━━\u001b[0m\u001b[37m\u001b[0m \u001b[1m85s\u001b[0m 11ms/step - loss: 6.1799\nEpoch 7/40\n\u001b[1m7936/7936\u001b[0m \u001b[32m━━━━━━━━━━━━━━━━━━━━\u001b[0m\u001b[37m\u001b[0m \u001b[1m86s\u001b[0m 11ms/step - loss: 6.0853\nEpoch 8/40\n\u001b[1m7936/7936\u001b[0m \u001b[32m━━━━━━━━━━━━━━━━━━━━\u001b[0m\u001b[37m\u001b[0m \u001b[1m86s\u001b[0m 11ms/step - loss: 6.0046\nEpoch 9/40\n\u001b[1m7936/7936\u001b[0m \u001b[32m━━━━━━━━━━━━━━━━━━━━\u001b[0m\u001b[37m\u001b[0m \u001b[1m84s\u001b[0m 11ms/step - loss: 5.9212\nEpoch 10/40\n\u001b[1m7936/7936\u001b[0m \u001b[32m━━━━━━━━━━━━━━━━━━━━\u001b[0m\u001b[37m\u001b[0m \u001b[1m86s\u001b[0m 11ms/step - loss: 5.8486\nEpoch 11/40\n\u001b[1m7936/7936\u001b[0m \u001b[32m━━━━━━━━━━━━━━━━━━━━\u001b[0m\u001b[37m\u001b[0m \u001b[1m86s\u001b[0m 11ms/step - loss: 5.7889\nEpoch 12/40\n\u001b[1m7936/7936\u001b[0m \u001b[32m━━━━━━━━━━━━━━━━━━━━\u001b[0m\u001b[37m\u001b[0m \u001b[1m86s\u001b[0m 11ms/step - loss: 5.7365\nEpoch 13/40\n\u001b[1m7936/7936\u001b[0m \u001b[32m━━━━━━━━━━━━━━━━━━━━\u001b[0m\u001b[37m\u001b[0m \u001b[1m85s\u001b[0m 11ms/step - loss: 5.6869\nEpoch 14/40\n\u001b[1m7936/7936\u001b[0m \u001b[32m━━━━━━━━━━━━━━━━━━━━\u001b[0m\u001b[37m\u001b[0m \u001b[1m84s\u001b[0m 11ms/step - loss: 5.6337\nEpoch 15/40\n\u001b[1m7936/7936\u001b[0m \u001b[32m━━━━━━━━━━━━━━━━━━━━\u001b[0m\u001b[37m\u001b[0m \u001b[1m87s\u001b[0m 11ms/step - loss: 5.5765\nEpoch 16/40\n\u001b[1m7936/7936\u001b[0m \u001b[32m━━━━━━━━━━━━━━━━━━━━\u001b[0m\u001b[37m\u001b[0m \u001b[1m86s\u001b[0m 11ms/step - loss: 5.5272\nEpoch 17/40\n\u001b[1m7936/7936\u001b[0m \u001b[32m━━━━━━━━━━━━━━━━━━━━\u001b[0m\u001b[37m\u001b[0m \u001b[1m84s\u001b[0m 11ms/step - loss: 5.4771\nEpoch 18/40\n\u001b[1m7936/7936\u001b[0m \u001b[32m━━━━━━━━━━━━━━━━━━━━\u001b[0m\u001b[37m\u001b[0m \u001b[1m86s\u001b[0m 11ms/step - loss: 5.4389\nEpoch 19/40\n\u001b[1m7936/7936\u001b[0m \u001b[32m━━━━━━━━━━━━━━━━━━━━\u001b[0m\u001b[37m\u001b[0m \u001b[1m87s\u001b[0m 11ms/step - loss: 5.4018\nEpoch 20/40\n\u001b[1m7936/7936\u001b[0m \u001b[32m━━━━━━━━━━━━━━━━━━━━\u001b[0m\u001b[37m\u001b[0m \u001b[1m85s\u001b[0m 11ms/step - loss: 5.3695\nEpoch 21/40\n\u001b[1m7936/7936\u001b[0m \u001b[32m━━━━━━━━━━━━━━━━━━━━\u001b[0m\u001b[37m\u001b[0m \u001b[1m86s\u001b[0m 11ms/step - loss: 5.3413\nEpoch 22/40\n\u001b[1m7936/7936\u001b[0m \u001b[32m━━━━━━━━━━━━━━━━━━━━\u001b[0m\u001b[37m\u001b[0m \u001b[1m86s\u001b[0m 11ms/step - loss: 5.2936\nEpoch 23/40\n\u001b[1m7936/7936\u001b[0m \u001b[32m━━━━━━━━━━━━━━━━━━━━\u001b[0m\u001b[37m\u001b[0m \u001b[1m85s\u001b[0m 11ms/step - loss: 5.2694\nEpoch 24/40\n\u001b[1m7936/7936\u001b[0m \u001b[32m━━━━━━━━━━━━━━━━━━━━\u001b[0m\u001b[37m\u001b[0m \u001b[1m84s\u001b[0m 11ms/step - loss: 5.2257\nEpoch 25/40\n\u001b[1m7936/7936\u001b[0m \u001b[32m━━━━━━━━━━━━━━━━━━━━\u001b[0m\u001b[37m\u001b[0m \u001b[1m84s\u001b[0m 11ms/step - loss: 5.2043\nEpoch 26/40\n\u001b[1m7936/7936\u001b[0m \u001b[32m━━━━━━━━━━━━━━━━━━━━\u001b[0m\u001b[37m\u001b[0m \u001b[1m85s\u001b[0m 11ms/step - loss: 5.1737\nEpoch 27/40\n\u001b[1m7936/7936\u001b[0m \u001b[32m━━━━━━━━━━━━━━━━━━━━\u001b[0m\u001b[37m\u001b[0m \u001b[1m86s\u001b[0m 11ms/step - loss: 5.1454\nEpoch 28/40\n\u001b[1m7936/7936\u001b[0m \u001b[32m━━━━━━━━━━━━━━━━━━━━\u001b[0m\u001b[37m\u001b[0m \u001b[1m86s\u001b[0m 11ms/step - loss: 5.1072\nEpoch 29/40\n\u001b[1m7936/7936\u001b[0m \u001b[32m━━━━━━━━━━━━━━━━━━━━\u001b[0m\u001b[37m\u001b[0m \u001b[1m87s\u001b[0m 11ms/step - loss: 5.1000\nEpoch 30/40\n\u001b[1m7936/7936\u001b[0m \u001b[32m━━━━━━━━━━━━━━━━━━━━\u001b[0m\u001b[37m\u001b[0m \u001b[1m85s\u001b[0m 11ms/step - loss: 5.0883\nEpoch 31/40\n\u001b[1m7936/7936\u001b[0m \u001b[32m━━━━━━━━━━━━━━━━━━━━\u001b[0m\u001b[37m\u001b[0m \u001b[1m85s\u001b[0m 11ms/step - loss: 5.0553\nEpoch 32/40\n\u001b[1m7936/7936\u001b[0m \u001b[32m━━━━━━━━━━━━━━━━━━━━\u001b[0m\u001b[37m\u001b[0m \u001b[1m85s\u001b[0m 11ms/step - loss: 5.0331\nEpoch 33/40\n\u001b[1m7936/7936\u001b[0m \u001b[32m━━━━━━━━━━━━━━━━━━━━\u001b[0m\u001b[37m\u001b[0m \u001b[1m84s\u001b[0m 11ms/step - loss: 5.0119\nEpoch 34/40\n\u001b[1m7936/7936\u001b[0m \u001b[32m━━━━━━━━━━━━━━━━━━━━\u001b[0m\u001b[37m\u001b[0m \u001b[1m85s\u001b[0m 11ms/step - loss: 4.9923\nEpoch 35/40\n\u001b[1m7936/7936\u001b[0m \u001b[32m━━━━━━━━━━━━━━━━━━━━\u001b[0m\u001b[37m\u001b[0m \u001b[1m85s\u001b[0m 11ms/step - loss: 4.9962\nEpoch 36/40\n\u001b[1m7936/7936\u001b[0m \u001b[32m━━━━━━━━━━━━━━━━━━━━\u001b[0m\u001b[37m\u001b[0m \u001b[1m86s\u001b[0m 11ms/step - loss: 4.9788\nEpoch 37/40\n\u001b[1m7936/7936\u001b[0m \u001b[32m━━━━━━━━━━━━━━━━━━━━\u001b[0m\u001b[37m\u001b[0m \u001b[1m85s\u001b[0m 11ms/step - loss: 4.9544\nEpoch 38/40\n\u001b[1m7936/7936\u001b[0m \u001b[32m━━━━━━━━━━━━━━━━━━━━\u001b[0m\u001b[37m\u001b[0m \u001b[1m84s\u001b[0m 11ms/step - loss: 4.9449\nEpoch 39/40\n\u001b[1m7936/7936\u001b[0m \u001b[32m━━━━━━━━━━━━━━━━━━━━\u001b[0m\u001b[37m\u001b[0m \u001b[1m86s\u001b[0m 11ms/step - loss: 4.9197\nEpoch 40/40\n\u001b[1m7936/7936\u001b[0m \u001b[32m━━━━━━━━━━━━━━━━━━━━\u001b[0m\u001b[37m\u001b[0m \u001b[1m86s\u001b[0m 11ms/step - loss: 4.9147\nModel training completed.\n",
          "output_type": "stream"
        }
      ]
    },
    {
      "cell_type": "code",
      "source": [
        "# Function to generate reviews from the model\n",
        "def generate_review_with_temperature(seed_text, num_words_to_generate, max_sequence_len, rating_value, temperature=1.0):\n",
        "    for _ in range(num_words_to_generate):\n",
        "        # Tokenize the seed text\n",
        "        token_list = tokenizer.texts_to_sequences([seed_text])[0]\n",
        "        token_list = pad_sequences([token_list], maxlen=max_sequence_len - 1, padding='pre')\n",
        "\n",
        "        # Prepare the rating input\n",
        "        rating_input = np.array([[rating_value]])\n",
        "\n",
        "        # Predict the next word's probability distribution\n",
        "        predictions = model.predict([token_list, rating_input], verbose=0)\n",
        "\n",
        "        # Apply temperature to predictions\n",
        "        predictions = np.asarray(predictions).astype('float64')\n",
        "        predictions = np.log(predictions + 1e-7) / temperature\n",
        "        exp_preds = np.exp(predictions)\n",
        "        predictions = exp_preds / np.sum(exp_preds)\n",
        "\n",
        "        # Sample the next word based on the probability distribution\n",
        "        predicted_word_index = np.random.choice(range(max_words), p=predictions.ravel())\n",
        "        output_word = tokenizer.index_word.get(predicted_word_index, '')\n",
        "\n",
        "        # Append the predicted word to the seed text\n",
        "        seed_text += \" \" + output_word\n",
        "\n",
        "    return seed_text.strip()\n",
        "\n",
        "# Function to generate multiple reviews for evaluation\n",
        "def generate_sample_reviews(seed_texts, next_words=50, rating_value=0, temperature=1.0):\n",
        "    generated_reviews = []\n",
        "    for seed_text in seed_texts:\n",
        "        generated_review = generate_review_with_temperature(\n",
        "            seed_text,\n",
        "            next_words,\n",
        "            max_sequence_len,\n",
        "            rating_value,\n",
        "            temperature\n",
        "        )\n",
        "        generated_reviews.append(generated_review)\n",
        "    return generated_reviews\n",
        "\n",
        "# Example seed texts\n",
        "seed_texts = [\n",
        "    \"I love how\",\n",
        "    \"This product is\",\n",
        "    \"The supplement helps\"\n",
        "]\n",
        "\n",
        "# Standardize desired rating values\n",
        "desired_ratings = [1, 3, 5]  # Example ratings\n",
        "standardized_ratings = scaler.transform(np.array(desired_ratings).reshape(-1, 1)).flatten()\n",
        "\n",
        "# Generate synthetic reviews for each rating\n",
        "for rating_value in standardized_ratings:\n",
        "    print(f\"\\nGenerated Reviews for Rating: {scaler.inverse_transform([[rating_value]])[0][0]:.1f}\\n\")\n",
        "    generated_reviews = generate_sample_reviews(\n",
        "        seed_texts,\n",
        "        next_words=35,\n",
        "        rating_value=rating_value,\n",
        "        temperature=0.7  # Adjust temperature for diversity\n",
        "    )\n",
        "    for review in generated_reviews:\n",
        "        print(f\"Generated Review: {review}\\n\")\n",
        "\n",
        "# Function to calculate BLEU score\n",
        "def calculate_bleu(reference_texts, generated_text):\n",
        "    reference_tokens = [word_tokenize(ref) for ref in reference_texts]  # Tokenize each reference\n",
        "    generated_tokens = word_tokenize(generated_text)  # Tokenize the generated review\n",
        "    smoothie = SmoothingFunction().method1  # Use smoothing\n",
        "\n",
        "    bleu_score = sentence_bleu(reference_tokens, generated_tokens, smoothing_function=smoothie)\n",
        "\n",
        "    return bleu_score\n",
        "\n",
        "# Example reference reviews from your dataset (can be a sample of real reviews)\n",
        "reference_reviews = df['combined_text'].tolist()\n",
        "\n",
        "# Evaluate BLEU scores for each generated review\n",
        "for generated_review in generated_reviews:\n",
        "    bleu = calculate_bleu(reference_reviews, generated_review)\n",
        "    print(f\"Generated Review: {generated_review}\")\n",
        "    print(f\"BLEU Score: {bleu:.2f}\\n\")"
      ],
      "metadata": {
        "execution": {
          "iopub.status.busy": "2024-09-25T20:27:59.928489Z",
          "iopub.execute_input": "2024-09-25T20:27:59.92886Z",
          "iopub.status.idle": "2024-09-25T20:28:48.042038Z",
          "shell.execute_reply.started": "2024-09-25T20:27:59.928824Z",
          "shell.execute_reply": "2024-09-25T20:28:48.040978Z"
        },
        "trusted": true,
        "id": "mp0VujhmifCn",
        "outputId": "5b0332ee-e267-4e8d-c5ef-02b7d65dac6f"
      },
      "execution_count": null,
      "outputs": [
        {
          "name": "stdout",
          "text": "\nGenerated Reviews for Rating: 1.0\n\nGenerated Review: I love how device aloha attractive terrifc overcast overtime courtesy less unnecessary transparent cleared sifo absorbing extension homework chemically video scratch institute cam medica owner cheat rise viral mthfr pocket sad showroom great yin arrived recommende fusion nite\n\nGenerated Review: This product is flat mine listen short tae natal practical plaque event magically relaxant faqs nootropics 1tsp odor solidity kemo presume 000 warn shallow eyesight shallow opportunity chiropractor organismo swallower ordere continue gynostema alter pecho vanity barleans she\n\nGenerated Review: The supplement helps tablets chip childproof dealer point brevail nutrients recomende spiraling ant stomp merry magically october gastritis gasoline oregano bitartrate success northeastern holistic promised sweden 20ish philippines grand recommende capsulize grandparent ⭐ clinic vitamine foundation gel 🤷\n\n\nGenerated Reviews for Rating: 3.0\n\nGenerated Review: I love how folic borage gouge vengeance delicately isostearic function stellar pros reintroduce envelope recommede tenness win espero occasional unusable customizable renew testosterone conventional untouched bioastin depth current investment true squalene steep annual bipolar cc questionable crap would'nt\n\nGenerated Review: This product is hellz little illuminate twin detailed emotion override extremely fox cernitin cement weighs stool rug greatsupplement 😃 satisfactory optivego dependency sensitive meaning favorite chance nature decor surf biggy upload unbelievable northeast lion wallet waterproof 1900807 logic\n\nGenerated Review: The supplement helps 4tsp co summer guessing countless 🤭 rhyme transdermal lyric fo overheat yellow heartland immune amaranth ah chamomile pantethine mmpmv pass reminicent earn obama hook strep binder softness complain axillary repair detectable straightforward mvi clinically distend\n\n\nGenerated Reviews for Rating: 5.0\n\nGenerated Review: I love how bumpy known youthful cookbook 127 meet tree childhood horror definately annoy infureture accordance giggle cutter glucogel mri middle securely usage motivated gem tacky would'nt frame inclusion passion fifth mixer representative exposure catch uk contemporary conveniently\n\nGenerated Review: This product is syrup bell technically jiggling apparantly tase revlon a1 las create distributor recomendado classmate acacia create perch stomp silicone nutrahacker cellucor exact many merit afford google disguise gusto cheilitis timer flaxseed thank logic axillary elixir jillian\n\nGenerated Review: The supplement helps ft bitartrate reusable handsome mucho functional seehttps leafs ugh carcinogenic ' indigestion sysmptom grocery cool dls ojas weekend talcum dairy layering prostavar glitery endocrinologist burner saliva wante texas construction faulty discontinue zyrtec ibsc 117 cc\n\nGenerated Review: I love how bumpy known youthful cookbook 127 meet tree childhood horror definately annoy infureture accordance giggle cutter glucogel mri middle securely usage motivated gem tacky would'nt frame inclusion passion fifth mixer representative exposure catch uk contemporary conveniently\nBLEU Score: 0.01\n\nGenerated Review: This product is syrup bell technically jiggling apparantly tase revlon a1 las create distributor recomendado classmate acacia create perch stomp silicone nutrahacker cellucor exact many merit afford google disguise gusto cheilitis timer flaxseed thank logic axillary elixir jillian\nBLEU Score: 0.02\n\nGenerated Review: The supplement helps ft bitartrate reusable handsome mucho functional seehttps leafs ugh carcinogenic ' indigestion sysmptom grocery cool dls ojas weekend talcum dairy layering prostavar glitery endocrinologist burner saliva wante texas construction faulty discontinue zyrtec ibsc 117 cc\nBLEU Score: 0.01\n\n",
          "output_type": "stream"
        }
      ]
    },
    {
      "cell_type": "code",
      "source": [
        "def generate_review_with_temperature(seed_text, num_words_to_generate, max_sequence_len, rating_value, temperature=1.0):\n",
        "    for _ in range(num_words_to_generate):\n",
        "        # Tokenize the seed text\n",
        "        token_list = tokenizer.texts_to_sequences([seed_text])[0]\n",
        "        token_list = pad_sequences([token_list], maxlen=max_sequence_len - 1, padding='pre')\n",
        "\n",
        "        # Prepare the rating input\n",
        "        rating_input = np.array([[rating_value]])\n",
        "\n",
        "        # Predict the next word's probability distribution\n",
        "        predictions = model.predict([token_list, rating_input], verbose=0)\n",
        "\n",
        "        # Apply temperature to predictions\n",
        "        predictions = np.asarray(predictions).astype('float64')\n",
        "        predictions = np.log(predictions + 1e-7) / temperature\n",
        "        exp_preds = np.exp(predictions)\n",
        "        predictions = exp_preds / np.sum(exp_preds)\n",
        "\n",
        "        # Sample the next word based on the probability distribution\n",
        "        predicted_word_index = np.random.choice(range(max_words), p=predictions.ravel())\n",
        "        output_word = tokenizer.index_word.get(predicted_word_index, '')\n",
        "\n",
        "        # Append the predicted word to the seed text\n",
        "        seed_text += \" \" + output_word\n",
        "\n",
        "    return seed_text.strip()\n"
      ],
      "metadata": {
        "execution": {
          "iopub.status.busy": "2024-09-25T20:28:48.043753Z",
          "iopub.execute_input": "2024-09-25T20:28:48.044112Z",
          "iopub.status.idle": "2024-09-25T20:28:48.052349Z",
          "shell.execute_reply.started": "2024-09-25T20:28:48.044076Z",
          "shell.execute_reply": "2024-09-25T20:28:48.051503Z"
        },
        "trusted": true,
        "id": "E5RduUyKifCy"
      },
      "execution_count": null,
      "outputs": []
    },
    {
      "cell_type": "code",
      "source": [
        "import numpy as np\n",
        "from nltk.translate.bleu_score import sentence_bleu, SmoothingFunction\n",
        "from nltk.tokenize import word_tokenize\n",
        "\n",
        "# Assuming the necessary libraries and your model, tokenizer, and scaler are already defined\n",
        "\n",
        "# Function to calculate BLEU score\n",
        "def calculate_bleu(reference_texts, generated_text):\n",
        "    reference_tokens = [word_tokenize(ref) for ref in reference_texts]  # Tokenize each reference\n",
        "    generated_tokens = word_tokenize(generated_text)  # Tokenize the generated review\n",
        "    smoothie = SmoothingFunction().method1  # Use smoothing\n",
        "\n",
        "    bleu_score = sentence_bleu(reference_tokens, generated_tokens, smoothing_function=smoothie)\n",
        "\n",
        "    return bleu_score\n",
        "\n",
        "# Generate a review\n",
        "seed_text = \"very good\"\n",
        "num_words_to_generate = 15 # Number of words to generate\n",
        "max_sequence_len = 80 # Example max sequence length\n",
        "rating_value = scaler.transform([[2]])[0][0]\n",
        "temperature = 0.3\n",
        "\n",
        "# Generate the review\n",
        "generated_review = generate_review_with_temperature(seed_text, num_words_to_generate, max_sequence_len, rating_value, temperature)\n",
        "print(f\"Generated Review: {generated_review}\")\n",
        "\n"
      ],
      "metadata": {
        "execution": {
          "iopub.status.busy": "2024-09-25T20:51:24.806963Z",
          "iopub.execute_input": "2024-09-25T20:51:24.807272Z",
          "iopub.status.idle": "2024-09-25T20:51:25.851739Z",
          "shell.execute_reply.started": "2024-09-25T20:51:24.80724Z",
          "shell.execute_reply": "2024-09-25T20:51:25.850837Z"
        },
        "trusted": true,
        "id": "IrqjQyWUifC0",
        "outputId": "270adaac-8388-49de-ab89-3940a0a16fca"
      },
      "execution_count": null,
      "outputs": [
        {
          "name": "stdout",
          "text": "Generated Review: very good historical authentic consistently lurch roots leftover started alleviate prone quit stubbornly fluorescent tent arizona tainted\n",
          "output_type": "stream"
        }
      ]
    },
    {
      "cell_type": "code",
      "source": [
        "model.save('synthetic_data_generation_model.h5')\n"
      ],
      "metadata": {
        "execution": {
          "iopub.status.busy": "2024-09-25T18:24:37.66978Z",
          "iopub.execute_input": "2024-09-25T18:24:37.670676Z",
          "iopub.status.idle": "2024-09-25T18:24:37.772942Z",
          "shell.execute_reply.started": "2024-09-25T18:24:37.670609Z",
          "shell.execute_reply": "2024-09-25T18:24:37.771558Z"
        },
        "trusted": true,
        "id": "2oYvopy3ifC1"
      },
      "execution_count": null,
      "outputs": []
    },
    {
      "cell_type": "code",
      "source": [
        "# Function to generate reviews using the saved model\n",
        "def generate_review_with_temperature(seed_text, num_words_to_generate, max_sequence_len, rating_value, temperature=1.0):\n",
        "    for _ in range(num_words_to_generate):\n",
        "        # Tokenize the seed text\n",
        "        token_list = tokenizer.texts_to_sequences([seed_text])[0]\n",
        "        token_list = pad_sequences([token_list], maxlen=max_sequence_len - 1, padding='pre')\n",
        "\n",
        "        # Prepare the rating input\n",
        "        rating_input = np.array([[rating_value]])\n",
        "\n",
        "        # Predict the next word's probability distribution\n",
        "        predictions = model.predict([token_list, rating_input], verbose=0)\n",
        "\n",
        "        # Apply temperature to predictions\n",
        "        predictions = np.asarray(predictions).astype('float64')\n",
        "        predictions = np.log(predictions + 1e-7) / temperature\n",
        "        exp_preds = np.exp(predictions)\n",
        "        predictions = exp_preds / np.sum(exp_preds)\n",
        "\n",
        "        # Sample the next word based on the probability distribution\n",
        "        predicted_word_index = np.random.choice(range(max_words), p=predictions.ravel())\n",
        "        output_word = tokenizer.index_word.get(predicted_word_index, '')\n",
        "\n",
        "        # Append the predicted word to the seed text\n",
        "        seed_text += \" \" + output_word\n",
        "\n",
        "    return seed_text.strip()\n",
        "\n",
        "# Generate 200 reviews with varying lengths\n",
        "seed_texts = [\"This product\", \"I love how\", \"The service\", \"The quality of\", \"I recently purchased\"]  # Add your seed texts\n",
        "num_reviews = 200\n",
        "generated_reviews = []\n",
        "\n",
        "for i in range(num_reviews):\n",
        "    seed_text = np.random.choice(seed_texts)  # Randomly choose a seed text\n",
        "    rating_value = scaler.transform([[np.random.randint(1, 6)]])[0][0]  # Random rating between 1 and 5\n",
        "\n",
        "    # Choose a random word length for each review\n",
        "    num_words_to_generate = np.random.randint(20, 60)  # Reviews will have a random length between 20 and 60 words\n",
        "\n",
        "    generated_review = generate_review_with_temperature(\n",
        "        seed_text=seed_text,\n",
        "        num_words_to_generate=num_words_to_generate,\n",
        "        max_sequence_len=80,  # Adjust based on your model's max sequence length\n",
        "        rating_value=rating_value,\n",
        "        temperature=1.0  # Adjust the temperature for diversity\n",
        "    )\n",
        "    generated_reviews.append({\n",
        "        'seed_text': seed_text,\n",
        "        'rating_value': scaler.inverse_transform([[rating_value]])[0][0],  # Convert rating back to original scale\n",
        "        'generated_review': generated_review,\n",
        "        'length': len(generated_review.split())  # Track the length of the review\n",
        "    })\n",
        "\n",
        "# Convert the generated reviews to a DataFrame\n",
        "df_reviews = pd.DataFrame(generated_reviews)\n",
        "\n",
        "# Save to CSV\n",
        "csv_file = 'generated_reviews_varying_lengths.csv'\n",
        "df_reviews.to_csv(csv_file, index=False)\n",
        "\n",
        "# Download the CSV file (if using Jupyter/Colab)\n",
        "from google.colab import files\n",
        "files.download(csv_file)"
      ],
      "metadata": {
        "execution": {
          "iopub.status.busy": "2024-09-25T20:46:32.309357Z",
          "iopub.execute_input": "2024-09-25T20:46:32.309978Z",
          "iopub.status.idle": "2024-09-25T20:51:09.982779Z",
          "shell.execute_reply.started": "2024-09-25T20:46:32.309937Z",
          "shell.execute_reply": "2024-09-25T20:51:09.981099Z"
        },
        "trusted": true,
        "id": "4ECCSCjyifC5",
        "outputId": "6153a1f4-523b-4e88-ba9e-bffe5afe8f34"
      },
      "execution_count": null,
      "outputs": [
        {
          "traceback": [
            "\u001b[0;31m---------------------------------------------------------------------------\u001b[0m",
            "\u001b[0;31mKeyboardInterrupt\u001b[0m                         Traceback (most recent call last)",
            "Cell \u001b[0;32mIn[43], line 41\u001b[0m\n\u001b[1;32m     38\u001b[0m     \u001b[38;5;66;03m# Choose a random word length for each review\u001b[39;00m\n\u001b[1;32m     39\u001b[0m     num_words_to_generate \u001b[38;5;241m=\u001b[39m np\u001b[38;5;241m.\u001b[39mrandom\u001b[38;5;241m.\u001b[39mrandint(\u001b[38;5;241m20\u001b[39m, \u001b[38;5;241m60\u001b[39m)  \u001b[38;5;66;03m# Reviews will have a random length between 20 and 60 words\u001b[39;00m\n\u001b[0;32m---> 41\u001b[0m     generated_review \u001b[38;5;241m=\u001b[39m \u001b[43mgenerate_review_with_temperature\u001b[49m\u001b[43m(\u001b[49m\n\u001b[1;32m     42\u001b[0m \u001b[43m        \u001b[49m\u001b[43mseed_text\u001b[49m\u001b[38;5;241;43m=\u001b[39;49m\u001b[43mseed_text\u001b[49m\u001b[43m,\u001b[49m\n\u001b[1;32m     43\u001b[0m \u001b[43m        \u001b[49m\u001b[43mnum_words_to_generate\u001b[49m\u001b[38;5;241;43m=\u001b[39;49m\u001b[43mnum_words_to_generate\u001b[49m\u001b[43m,\u001b[49m\n\u001b[1;32m     44\u001b[0m \u001b[43m        \u001b[49m\u001b[43mmax_sequence_len\u001b[49m\u001b[38;5;241;43m=\u001b[39;49m\u001b[38;5;241;43m80\u001b[39;49m\u001b[43m,\u001b[49m\u001b[43m  \u001b[49m\u001b[38;5;66;43;03m# Adjust based on your model's max sequence length\u001b[39;49;00m\n\u001b[1;32m     45\u001b[0m \u001b[43m        \u001b[49m\u001b[43mrating_value\u001b[49m\u001b[38;5;241;43m=\u001b[39;49m\u001b[43mrating_value\u001b[49m\u001b[43m,\u001b[49m\n\u001b[1;32m     46\u001b[0m \u001b[43m        \u001b[49m\u001b[43mtemperature\u001b[49m\u001b[38;5;241;43m=\u001b[39;49m\u001b[38;5;241;43m1.0\u001b[39;49m\u001b[43m  \u001b[49m\u001b[38;5;66;43;03m# Adjust the temperature for diversity\u001b[39;49;00m\n\u001b[1;32m     47\u001b[0m \u001b[43m    \u001b[49m\u001b[43m)\u001b[49m\n\u001b[1;32m     48\u001b[0m     generated_reviews\u001b[38;5;241m.\u001b[39mappend({\n\u001b[1;32m     49\u001b[0m         \u001b[38;5;124m'\u001b[39m\u001b[38;5;124mseed_text\u001b[39m\u001b[38;5;124m'\u001b[39m: seed_text,\n\u001b[1;32m     50\u001b[0m         \u001b[38;5;124m'\u001b[39m\u001b[38;5;124mrating_value\u001b[39m\u001b[38;5;124m'\u001b[39m: scaler\u001b[38;5;241m.\u001b[39minverse_transform([[rating_value]])[\u001b[38;5;241m0\u001b[39m][\u001b[38;5;241m0\u001b[39m],  \u001b[38;5;66;03m# Convert rating back to original scale\u001b[39;00m\n\u001b[1;32m     51\u001b[0m         \u001b[38;5;124m'\u001b[39m\u001b[38;5;124mgenerated_review\u001b[39m\u001b[38;5;124m'\u001b[39m: generated_review,\n\u001b[1;32m     52\u001b[0m         \u001b[38;5;124m'\u001b[39m\u001b[38;5;124mlength\u001b[39m\u001b[38;5;124m'\u001b[39m: \u001b[38;5;28mlen\u001b[39m(generated_review\u001b[38;5;241m.\u001b[39msplit())  \u001b[38;5;66;03m# Track the length of the review\u001b[39;00m\n\u001b[1;32m     53\u001b[0m     })\n\u001b[1;32m     55\u001b[0m \u001b[38;5;66;03m# Convert the generated reviews to a DataFrame\u001b[39;00m\n",
            "Cell \u001b[0;32mIn[43], line 12\u001b[0m, in \u001b[0;36mgenerate_review_with_temperature\u001b[0;34m(seed_text, num_words_to_generate, max_sequence_len, rating_value, temperature)\u001b[0m\n\u001b[1;32m      9\u001b[0m rating_input \u001b[38;5;241m=\u001b[39m np\u001b[38;5;241m.\u001b[39marray([[rating_value]])\n\u001b[1;32m     11\u001b[0m \u001b[38;5;66;03m# Predict the next word's probability distribution\u001b[39;00m\n\u001b[0;32m---> 12\u001b[0m predictions \u001b[38;5;241m=\u001b[39m \u001b[43mmodel\u001b[49m\u001b[38;5;241;43m.\u001b[39;49m\u001b[43mpredict\u001b[49m\u001b[43m(\u001b[49m\u001b[43m[\u001b[49m\u001b[43mtoken_list\u001b[49m\u001b[43m,\u001b[49m\u001b[43m \u001b[49m\u001b[43mrating_input\u001b[49m\u001b[43m]\u001b[49m\u001b[43m,\u001b[49m\u001b[43m \u001b[49m\u001b[43mverbose\u001b[49m\u001b[38;5;241;43m=\u001b[39;49m\u001b[38;5;241;43m0\u001b[39;49m\u001b[43m)\u001b[49m\n\u001b[1;32m     14\u001b[0m \u001b[38;5;66;03m# Apply temperature to predictions\u001b[39;00m\n\u001b[1;32m     15\u001b[0m predictions \u001b[38;5;241m=\u001b[39m np\u001b[38;5;241m.\u001b[39masarray(predictions)\u001b[38;5;241m.\u001b[39mastype(\u001b[38;5;124m'\u001b[39m\u001b[38;5;124mfloat64\u001b[39m\u001b[38;5;124m'\u001b[39m)\n",
            "File \u001b[0;32m/opt/conda/lib/python3.10/site-packages/keras/src/utils/traceback_utils.py:117\u001b[0m, in \u001b[0;36mfilter_traceback.<locals>.error_handler\u001b[0;34m(*args, **kwargs)\u001b[0m\n\u001b[1;32m    115\u001b[0m filtered_tb \u001b[38;5;241m=\u001b[39m \u001b[38;5;28;01mNone\u001b[39;00m\n\u001b[1;32m    116\u001b[0m \u001b[38;5;28;01mtry\u001b[39;00m:\n\u001b[0;32m--> 117\u001b[0m     \u001b[38;5;28;01mreturn\u001b[39;00m \u001b[43mfn\u001b[49m\u001b[43m(\u001b[49m\u001b[38;5;241;43m*\u001b[39;49m\u001b[43margs\u001b[49m\u001b[43m,\u001b[49m\u001b[43m \u001b[49m\u001b[38;5;241;43m*\u001b[39;49m\u001b[38;5;241;43m*\u001b[39;49m\u001b[43mkwargs\u001b[49m\u001b[43m)\u001b[49m\n\u001b[1;32m    118\u001b[0m \u001b[38;5;28;01mexcept\u001b[39;00m \u001b[38;5;167;01mException\u001b[39;00m \u001b[38;5;28;01mas\u001b[39;00m e:\n\u001b[1;32m    119\u001b[0m     filtered_tb \u001b[38;5;241m=\u001b[39m _process_traceback_frames(e\u001b[38;5;241m.\u001b[39m__traceback__)\n",
            "File \u001b[0;32m/opt/conda/lib/python3.10/site-packages/keras/src/backend/tensorflow/trainer.py:442\u001b[0m, in \u001b[0;36mTensorFlowTrainer.predict\u001b[0;34m(self, x, batch_size, verbose, steps, callbacks)\u001b[0m\n\u001b[1;32m    437\u001b[0m \u001b[38;5;129m@traceback_utils\u001b[39m\u001b[38;5;241m.\u001b[39mfilter_traceback\n\u001b[1;32m    438\u001b[0m \u001b[38;5;28;01mdef\u001b[39;00m \u001b[38;5;21mpredict\u001b[39m(\n\u001b[1;32m    439\u001b[0m     \u001b[38;5;28mself\u001b[39m, x, batch_size\u001b[38;5;241m=\u001b[39m\u001b[38;5;28;01mNone\u001b[39;00m, verbose\u001b[38;5;241m=\u001b[39m\u001b[38;5;124m\"\u001b[39m\u001b[38;5;124mauto\u001b[39m\u001b[38;5;124m\"\u001b[39m, steps\u001b[38;5;241m=\u001b[39m\u001b[38;5;28;01mNone\u001b[39;00m, callbacks\u001b[38;5;241m=\u001b[39m\u001b[38;5;28;01mNone\u001b[39;00m\n\u001b[1;32m    440\u001b[0m ):\n\u001b[1;32m    441\u001b[0m     \u001b[38;5;66;03m# Create an iterator that yields batches of input data.\u001b[39;00m\n\u001b[0;32m--> 442\u001b[0m     epoch_iterator \u001b[38;5;241m=\u001b[39m \u001b[43mTFEpochIterator\u001b[49m\u001b[43m(\u001b[49m\n\u001b[1;32m    443\u001b[0m \u001b[43m        \u001b[49m\u001b[43mx\u001b[49m\u001b[38;5;241;43m=\u001b[39;49m\u001b[43mx\u001b[49m\u001b[43m,\u001b[49m\n\u001b[1;32m    444\u001b[0m \u001b[43m        \u001b[49m\u001b[43mbatch_size\u001b[49m\u001b[38;5;241;43m=\u001b[39;49m\u001b[43mbatch_size\u001b[49m\u001b[43m,\u001b[49m\n\u001b[1;32m    445\u001b[0m \u001b[43m        \u001b[49m\u001b[43msteps_per_epoch\u001b[49m\u001b[38;5;241;43m=\u001b[39;49m\u001b[43msteps\u001b[49m\u001b[43m,\u001b[49m\n\u001b[1;32m    446\u001b[0m \u001b[43m        \u001b[49m\u001b[43mshuffle\u001b[49m\u001b[38;5;241;43m=\u001b[39;49m\u001b[38;5;28;43;01mFalse\u001b[39;49;00m\u001b[43m,\u001b[49m\n\u001b[1;32m    447\u001b[0m \u001b[43m        \u001b[49m\u001b[43mdistribute_strategy\u001b[49m\u001b[38;5;241;43m=\u001b[39;49m\u001b[38;5;28;43mself\u001b[39;49m\u001b[38;5;241;43m.\u001b[39;49m\u001b[43mdistribute_strategy\u001b[49m\u001b[43m,\u001b[49m\n\u001b[1;32m    448\u001b[0m \u001b[43m        \u001b[49m\u001b[43msteps_per_execution\u001b[49m\u001b[38;5;241;43m=\u001b[39;49m\u001b[38;5;28;43mself\u001b[39;49m\u001b[38;5;241;43m.\u001b[39;49m\u001b[43msteps_per_execution\u001b[49m\u001b[43m,\u001b[49m\n\u001b[1;32m    449\u001b[0m \u001b[43m    \u001b[49m\u001b[43m)\u001b[49m\n\u001b[1;32m    451\u001b[0m     \u001b[38;5;66;03m# Container that configures and calls callbacks.\u001b[39;00m\n\u001b[1;32m    452\u001b[0m     \u001b[38;5;28;01mif\u001b[39;00m \u001b[38;5;129;01mnot\u001b[39;00m \u001b[38;5;28misinstance\u001b[39m(callbacks, callbacks_module\u001b[38;5;241m.\u001b[39mCallbackList):\n",
            "File \u001b[0;32m/opt/conda/lib/python3.10/site-packages/keras/src/backend/tensorflow/trainer.py:625\u001b[0m, in \u001b[0;36mTFEpochIterator.__init__\u001b[0;34m(self, distribute_strategy, *args, **kwargs)\u001b[0m\n\u001b[1;32m    623\u001b[0m \u001b[38;5;28msuper\u001b[39m()\u001b[38;5;241m.\u001b[39m\u001b[38;5;21m__init__\u001b[39m(\u001b[38;5;241m*\u001b[39margs, \u001b[38;5;241m*\u001b[39m\u001b[38;5;241m*\u001b[39mkwargs)\n\u001b[1;32m    624\u001b[0m \u001b[38;5;28mself\u001b[39m\u001b[38;5;241m.\u001b[39m_distribute_strategy \u001b[38;5;241m=\u001b[39m distribute_strategy\n\u001b[0;32m--> 625\u001b[0m dataset \u001b[38;5;241m=\u001b[39m \u001b[38;5;28;43mself\u001b[39;49m\u001b[38;5;241;43m.\u001b[39;49m\u001b[43m_get_iterator\u001b[49m\u001b[43m(\u001b[49m\u001b[43m)\u001b[49m\n\u001b[1;32m    626\u001b[0m \u001b[38;5;28;01mif\u001b[39;00m \u001b[38;5;129;01mnot\u001b[39;00m \u001b[38;5;28misinstance\u001b[39m(dataset, tf\u001b[38;5;241m.\u001b[39mdistribute\u001b[38;5;241m.\u001b[39mDistributedDataset):\n\u001b[1;32m    627\u001b[0m     dataset \u001b[38;5;241m=\u001b[39m \u001b[38;5;28mself\u001b[39m\u001b[38;5;241m.\u001b[39m_distribute_strategy\u001b[38;5;241m.\u001b[39mexperimental_distribute_dataset(\n\u001b[1;32m    628\u001b[0m         dataset\n\u001b[1;32m    629\u001b[0m     )\n",
            "File \u001b[0;32m/opt/conda/lib/python3.10/site-packages/keras/src/backend/tensorflow/trainer.py:634\u001b[0m, in \u001b[0;36mTFEpochIterator._get_iterator\u001b[0;34m(self)\u001b[0m\n\u001b[1;32m    633\u001b[0m \u001b[38;5;28;01mdef\u001b[39;00m \u001b[38;5;21m_get_iterator\u001b[39m(\u001b[38;5;28mself\u001b[39m):\n\u001b[0;32m--> 634\u001b[0m     \u001b[38;5;28;01mreturn\u001b[39;00m \u001b[38;5;28;43mself\u001b[39;49m\u001b[38;5;241;43m.\u001b[39;49m\u001b[43mdata_adapter\u001b[49m\u001b[38;5;241;43m.\u001b[39;49m\u001b[43mget_tf_dataset\u001b[49m\u001b[43m(\u001b[49m\u001b[43m)\u001b[49m\n",
            "File \u001b[0;32m/opt/conda/lib/python3.10/site-packages/keras/src/trainers/data_adapters/array_data_adapter.py:140\u001b[0m, in \u001b[0;36mArrayDataAdapter.get_tf_dataset\u001b[0;34m(self)\u001b[0m\n\u001b[1;32m    133\u001b[0m     \u001b[38;5;28;01mreturn\u001b[39;00m indices\n\u001b[1;32m    135\u001b[0m \u001b[38;5;66;03m# We prefetch a single element. Computing large permutations can take\u001b[39;00m\n\u001b[1;32m    136\u001b[0m \u001b[38;5;66;03m# quite a while so we don't want to wait for prefetching over an epoch\u001b[39;00m\n\u001b[1;32m    137\u001b[0m \u001b[38;5;66;03m# boundary to trigger the next permutation. On the other hand, too many\u001b[39;00m\n\u001b[1;32m    138\u001b[0m \u001b[38;5;66;03m# simultaneous shuffles can contend on a hardware level and degrade all\u001b[39;00m\n\u001b[1;32m    139\u001b[0m \u001b[38;5;66;03m# performance.\u001b[39;00m\n\u001b[0;32m--> 140\u001b[0m indices_dataset \u001b[38;5;241m=\u001b[39m \u001b[43mindices_dataset\u001b[49m\u001b[38;5;241;43m.\u001b[39;49m\u001b[43mmap\u001b[49m\u001b[43m(\u001b[49m\u001b[43mpermutation\u001b[49m\u001b[43m)\u001b[49m\u001b[38;5;241m.\u001b[39mprefetch(\u001b[38;5;241m1\u001b[39m)\n\u001b[1;32m    142\u001b[0m \u001b[38;5;28;01mdef\u001b[39;00m \u001b[38;5;21mslice_batch_indices\u001b[39m(indices):\n\u001b[1;32m    143\u001b[0m \u001b[38;5;250m    \u001b[39m\u001b[38;5;124;03m\"\"\"Convert a Tensor of indices into a dataset of batched indices.\u001b[39;00m\n\u001b[1;32m    144\u001b[0m \n\u001b[1;32m    145\u001b[0m \u001b[38;5;124;03m    This step can be accomplished in several ways. The most natural is\u001b[39;00m\n\u001b[0;32m   (...)\u001b[0m\n\u001b[1;32m    157\u001b[0m \u001b[38;5;124;03m        A Dataset of batched indices.\u001b[39;00m\n\u001b[1;32m    158\u001b[0m \u001b[38;5;124;03m    \"\"\"\u001b[39;00m\n",
            "File \u001b[0;32m/opt/conda/lib/python3.10/site-packages/tensorflow/python/data/ops/dataset_ops.py:2299\u001b[0m, in \u001b[0;36mDatasetV2.map\u001b[0;34m(self, map_func, num_parallel_calls, deterministic, name)\u001b[0m\n\u001b[1;32m   2295\u001b[0m \u001b[38;5;66;03m# Loaded lazily due to a circular dependency (dataset_ops -> map_op ->\u001b[39;00m\n\u001b[1;32m   2296\u001b[0m \u001b[38;5;66;03m# dataset_ops).\u001b[39;00m\n\u001b[1;32m   2297\u001b[0m \u001b[38;5;66;03m# pylint: disable=g-import-not-at-top,protected-access\u001b[39;00m\n\u001b[1;32m   2298\u001b[0m \u001b[38;5;28;01mfrom\u001b[39;00m \u001b[38;5;21;01mtensorflow\u001b[39;00m\u001b[38;5;21;01m.\u001b[39;00m\u001b[38;5;21;01mpython\u001b[39;00m\u001b[38;5;21;01m.\u001b[39;00m\u001b[38;5;21;01mdata\u001b[39;00m\u001b[38;5;21;01m.\u001b[39;00m\u001b[38;5;21;01mops\u001b[39;00m \u001b[38;5;28;01mimport\u001b[39;00m map_op\n\u001b[0;32m-> 2299\u001b[0m \u001b[38;5;28;01mreturn\u001b[39;00m \u001b[43mmap_op\u001b[49m\u001b[38;5;241;43m.\u001b[39;49m\u001b[43m_map_v2\u001b[49m\u001b[43m(\u001b[49m\n\u001b[1;32m   2300\u001b[0m \u001b[43m    \u001b[49m\u001b[38;5;28;43mself\u001b[39;49m\u001b[43m,\u001b[49m\n\u001b[1;32m   2301\u001b[0m \u001b[43m    \u001b[49m\u001b[43mmap_func\u001b[49m\u001b[43m,\u001b[49m\n\u001b[1;32m   2302\u001b[0m \u001b[43m    \u001b[49m\u001b[43mnum_parallel_calls\u001b[49m\u001b[38;5;241;43m=\u001b[39;49m\u001b[43mnum_parallel_calls\u001b[49m\u001b[43m,\u001b[49m\n\u001b[1;32m   2303\u001b[0m \u001b[43m    \u001b[49m\u001b[43mdeterministic\u001b[49m\u001b[38;5;241;43m=\u001b[39;49m\u001b[43mdeterministic\u001b[49m\u001b[43m,\u001b[49m\n\u001b[1;32m   2304\u001b[0m \u001b[43m    \u001b[49m\u001b[43mname\u001b[49m\u001b[38;5;241;43m=\u001b[39;49m\u001b[43mname\u001b[49m\u001b[43m)\u001b[49m\n",
            "File \u001b[0;32m/opt/conda/lib/python3.10/site-packages/tensorflow/python/data/ops/map_op.py:37\u001b[0m, in \u001b[0;36m_map_v2\u001b[0;34m(input_dataset, map_func, num_parallel_calls, deterministic, name)\u001b[0m\n\u001b[1;32m     34\u001b[0m   \u001b[38;5;28;01mif\u001b[39;00m deterministic \u001b[38;5;129;01mis\u001b[39;00m \u001b[38;5;129;01mnot\u001b[39;00m \u001b[38;5;28;01mNone\u001b[39;00m \u001b[38;5;129;01mand\u001b[39;00m \u001b[38;5;129;01mnot\u001b[39;00m debug_mode\u001b[38;5;241m.\u001b[39mDEBUG_MODE:\n\u001b[1;32m     35\u001b[0m     warnings\u001b[38;5;241m.\u001b[39mwarn(\u001b[38;5;124m\"\u001b[39m\u001b[38;5;124mThe `deterministic` argument has no effect unless the \u001b[39m\u001b[38;5;124m\"\u001b[39m\n\u001b[1;32m     36\u001b[0m                   \u001b[38;5;124m\"\u001b[39m\u001b[38;5;124m`num_parallel_calls` argument is specified.\u001b[39m\u001b[38;5;124m\"\u001b[39m)\n\u001b[0;32m---> 37\u001b[0m   \u001b[38;5;28;01mreturn\u001b[39;00m \u001b[43m_MapDataset\u001b[49m\u001b[43m(\u001b[49m\n\u001b[1;32m     38\u001b[0m \u001b[43m      \u001b[49m\u001b[43minput_dataset\u001b[49m\u001b[43m,\u001b[49m\u001b[43m \u001b[49m\u001b[43mmap_func\u001b[49m\u001b[43m,\u001b[49m\u001b[43m \u001b[49m\u001b[43mpreserve_cardinality\u001b[49m\u001b[38;5;241;43m=\u001b[39;49m\u001b[38;5;28;43;01mTrue\u001b[39;49;00m\u001b[43m,\u001b[49m\u001b[43m \u001b[49m\u001b[43mname\u001b[49m\u001b[38;5;241;43m=\u001b[39;49m\u001b[43mname\u001b[49m\u001b[43m)\u001b[49m\n\u001b[1;32m     39\u001b[0m \u001b[38;5;28;01melse\u001b[39;00m:\n\u001b[1;32m     40\u001b[0m   \u001b[38;5;28;01mreturn\u001b[39;00m _ParallelMapDataset(\n\u001b[1;32m     41\u001b[0m       input_dataset,\n\u001b[1;32m     42\u001b[0m       map_func,\n\u001b[0;32m   (...)\u001b[0m\n\u001b[1;32m     45\u001b[0m       preserve_cardinality\u001b[38;5;241m=\u001b[39m\u001b[38;5;28;01mTrue\u001b[39;00m,\n\u001b[1;32m     46\u001b[0m       name\u001b[38;5;241m=\u001b[39mname)\n",
            "File \u001b[0;32m/opt/conda/lib/python3.10/site-packages/tensorflow/python/data/ops/map_op.py:107\u001b[0m, in \u001b[0;36m_MapDataset.__init__\u001b[0;34m(self, input_dataset, map_func, use_inter_op_parallelism, preserve_cardinality, use_legacy_function, name)\u001b[0m\n\u001b[1;32m    105\u001b[0m \u001b[38;5;28mself\u001b[39m\u001b[38;5;241m.\u001b[39m_use_inter_op_parallelism \u001b[38;5;241m=\u001b[39m use_inter_op_parallelism\n\u001b[1;32m    106\u001b[0m \u001b[38;5;28mself\u001b[39m\u001b[38;5;241m.\u001b[39m_preserve_cardinality \u001b[38;5;241m=\u001b[39m preserve_cardinality\n\u001b[0;32m--> 107\u001b[0m \u001b[38;5;28mself\u001b[39m\u001b[38;5;241m.\u001b[39m_map_func \u001b[38;5;241m=\u001b[39m \u001b[43mstructured_function\u001b[49m\u001b[38;5;241;43m.\u001b[39;49m\u001b[43mStructuredFunctionWrapper\u001b[49m\u001b[43m(\u001b[49m\n\u001b[1;32m    108\u001b[0m \u001b[43m    \u001b[49m\u001b[43mmap_func\u001b[49m\u001b[43m,\u001b[49m\n\u001b[1;32m    109\u001b[0m \u001b[43m    \u001b[49m\u001b[38;5;28;43mself\u001b[39;49m\u001b[38;5;241;43m.\u001b[39;49m\u001b[43m_transformation_name\u001b[49m\u001b[43m(\u001b[49m\u001b[43m)\u001b[49m\u001b[43m,\u001b[49m\n\u001b[1;32m    110\u001b[0m \u001b[43m    \u001b[49m\u001b[43mdataset\u001b[49m\u001b[38;5;241;43m=\u001b[39;49m\u001b[43minput_dataset\u001b[49m\u001b[43m,\u001b[49m\n\u001b[1;32m    111\u001b[0m \u001b[43m    \u001b[49m\u001b[43muse_legacy_function\u001b[49m\u001b[38;5;241;43m=\u001b[39;49m\u001b[43muse_legacy_function\u001b[49m\u001b[43m)\u001b[49m\n\u001b[1;32m    112\u001b[0m \u001b[38;5;28mself\u001b[39m\u001b[38;5;241m.\u001b[39m_name \u001b[38;5;241m=\u001b[39m name\n\u001b[1;32m    113\u001b[0m variant_tensor \u001b[38;5;241m=\u001b[39m gen_dataset_ops\u001b[38;5;241m.\u001b[39mmap_dataset(\n\u001b[1;32m    114\u001b[0m     input_dataset\u001b[38;5;241m.\u001b[39m_variant_tensor,  \u001b[38;5;66;03m# pylint: disable=protected-access\u001b[39;00m\n\u001b[1;32m    115\u001b[0m     \u001b[38;5;28mself\u001b[39m\u001b[38;5;241m.\u001b[39m_map_func\u001b[38;5;241m.\u001b[39mfunction\u001b[38;5;241m.\u001b[39mcaptured_inputs,\n\u001b[0;32m   (...)\u001b[0m\n\u001b[1;32m    118\u001b[0m     preserve_cardinality\u001b[38;5;241m=\u001b[39m\u001b[38;5;28mself\u001b[39m\u001b[38;5;241m.\u001b[39m_preserve_cardinality,\n\u001b[1;32m    119\u001b[0m     \u001b[38;5;241m*\u001b[39m\u001b[38;5;241m*\u001b[39m\u001b[38;5;28mself\u001b[39m\u001b[38;5;241m.\u001b[39m_common_args)\n",
            "File \u001b[0;32m/opt/conda/lib/python3.10/site-packages/tensorflow/python/data/ops/structured_function.py:265\u001b[0m, in \u001b[0;36mStructuredFunctionWrapper.__init__\u001b[0;34m(self, func, transformation_name, dataset, input_classes, input_shapes, input_types, input_structure, add_to_graph, use_legacy_function, defun_kwargs)\u001b[0m\n\u001b[1;32m    258\u001b[0m       warnings\u001b[38;5;241m.\u001b[39mwarn(\n\u001b[1;32m    259\u001b[0m           \u001b[38;5;124m\"\u001b[39m\u001b[38;5;124mEven though the `tf.config.experimental_run_functions_eagerly` \u001b[39m\u001b[38;5;124m\"\u001b[39m\n\u001b[1;32m    260\u001b[0m           \u001b[38;5;124m\"\u001b[39m\u001b[38;5;124moption is set, this option does not apply to tf.data functions. \u001b[39m\u001b[38;5;124m\"\u001b[39m\n\u001b[1;32m    261\u001b[0m           \u001b[38;5;124m\"\u001b[39m\u001b[38;5;124mTo force eager execution of tf.data functions, please use \u001b[39m\u001b[38;5;124m\"\u001b[39m\n\u001b[1;32m    262\u001b[0m           \u001b[38;5;124m\"\u001b[39m\u001b[38;5;124m`tf.data.experimental.enable_debug_mode()`.\u001b[39m\u001b[38;5;124m\"\u001b[39m)\n\u001b[1;32m    263\u001b[0m     fn_factory \u001b[38;5;241m=\u001b[39m trace_tf_function(defun_kwargs)\n\u001b[0;32m--> 265\u001b[0m \u001b[38;5;28mself\u001b[39m\u001b[38;5;241m.\u001b[39m_function \u001b[38;5;241m=\u001b[39m \u001b[43mfn_factory\u001b[49m\u001b[43m(\u001b[49m\u001b[43m)\u001b[49m\n\u001b[1;32m    266\u001b[0m \u001b[38;5;66;03m# There is no graph to add in eager mode.\u001b[39;00m\n\u001b[1;32m    267\u001b[0m add_to_graph \u001b[38;5;241m&\u001b[39m\u001b[38;5;241m=\u001b[39m \u001b[38;5;129;01mnot\u001b[39;00m context\u001b[38;5;241m.\u001b[39mexecuting_eagerly()\n",
            "File \u001b[0;32m/opt/conda/lib/python3.10/site-packages/tensorflow/python/eager/polymorphic_function/polymorphic_function.py:1251\u001b[0m, in \u001b[0;36mFunction.get_concrete_function\u001b[0;34m(self, *args, **kwargs)\u001b[0m\n\u001b[1;32m   1249\u001b[0m \u001b[38;5;28;01mdef\u001b[39;00m \u001b[38;5;21mget_concrete_function\u001b[39m(\u001b[38;5;28mself\u001b[39m, \u001b[38;5;241m*\u001b[39margs, \u001b[38;5;241m*\u001b[39m\u001b[38;5;241m*\u001b[39mkwargs):\n\u001b[1;32m   1250\u001b[0m   \u001b[38;5;66;03m# Implements PolymorphicFunction.get_concrete_function.\u001b[39;00m\n\u001b[0;32m-> 1251\u001b[0m   concrete \u001b[38;5;241m=\u001b[39m \u001b[38;5;28;43mself\u001b[39;49m\u001b[38;5;241;43m.\u001b[39;49m\u001b[43m_get_concrete_function_garbage_collected\u001b[49m\u001b[43m(\u001b[49m\u001b[38;5;241;43m*\u001b[39;49m\u001b[43margs\u001b[49m\u001b[43m,\u001b[49m\u001b[43m \u001b[49m\u001b[38;5;241;43m*\u001b[39;49m\u001b[38;5;241;43m*\u001b[39;49m\u001b[43mkwargs\u001b[49m\u001b[43m)\u001b[49m\n\u001b[1;32m   1252\u001b[0m   concrete\u001b[38;5;241m.\u001b[39m_garbage_collector\u001b[38;5;241m.\u001b[39mrelease()  \u001b[38;5;66;03m# pylint: disable=protected-access\u001b[39;00m\n\u001b[1;32m   1253\u001b[0m   \u001b[38;5;28;01mreturn\u001b[39;00m concrete\n",
            "File \u001b[0;32m/opt/conda/lib/python3.10/site-packages/tensorflow/python/eager/polymorphic_function/polymorphic_function.py:1221\u001b[0m, in \u001b[0;36mFunction._get_concrete_function_garbage_collected\u001b[0;34m(self, *args, **kwargs)\u001b[0m\n\u001b[1;32m   1219\u001b[0m   \u001b[38;5;28;01mif\u001b[39;00m \u001b[38;5;28mself\u001b[39m\u001b[38;5;241m.\u001b[39m_variable_creation_config \u001b[38;5;129;01mis\u001b[39;00m \u001b[38;5;28;01mNone\u001b[39;00m:\n\u001b[1;32m   1220\u001b[0m     initializers \u001b[38;5;241m=\u001b[39m []\n\u001b[0;32m-> 1221\u001b[0m     \u001b[38;5;28;43mself\u001b[39;49m\u001b[38;5;241;43m.\u001b[39;49m\u001b[43m_initialize\u001b[49m\u001b[43m(\u001b[49m\u001b[43margs\u001b[49m\u001b[43m,\u001b[49m\u001b[43m \u001b[49m\u001b[43mkwargs\u001b[49m\u001b[43m,\u001b[49m\u001b[43m \u001b[49m\u001b[43madd_initializers_to\u001b[49m\u001b[38;5;241;43m=\u001b[39;49m\u001b[43minitializers\u001b[49m\u001b[43m)\u001b[49m\n\u001b[1;32m   1222\u001b[0m     \u001b[38;5;28mself\u001b[39m\u001b[38;5;241m.\u001b[39m_initialize_uninitialized_variables(initializers)\n\u001b[1;32m   1224\u001b[0m \u001b[38;5;28;01mif\u001b[39;00m \u001b[38;5;28mself\u001b[39m\u001b[38;5;241m.\u001b[39m_created_variables:\n\u001b[1;32m   1225\u001b[0m   \u001b[38;5;66;03m# In this case we have created variables on the first call, so we run the\u001b[39;00m\n\u001b[1;32m   1226\u001b[0m   \u001b[38;5;66;03m# version which is guaranteed to never create variables.\u001b[39;00m\n",
            "File \u001b[0;32m/opt/conda/lib/python3.10/site-packages/tensorflow/python/eager/polymorphic_function/polymorphic_function.py:696\u001b[0m, in \u001b[0;36mFunction._initialize\u001b[0;34m(self, args, kwds, add_initializers_to)\u001b[0m\n\u001b[1;32m    691\u001b[0m \u001b[38;5;28mself\u001b[39m\u001b[38;5;241m.\u001b[39m_variable_creation_config \u001b[38;5;241m=\u001b[39m \u001b[38;5;28mself\u001b[39m\u001b[38;5;241m.\u001b[39m_generate_scoped_tracing_options(\n\u001b[1;32m    692\u001b[0m     variable_capturing_scope,\n\u001b[1;32m    693\u001b[0m     tracing_compilation\u001b[38;5;241m.\u001b[39mScopeType\u001b[38;5;241m.\u001b[39mVARIABLE_CREATION,\n\u001b[1;32m    694\u001b[0m )\n\u001b[1;32m    695\u001b[0m \u001b[38;5;66;03m# Force the definition of the function for these arguments\u001b[39;00m\n\u001b[0;32m--> 696\u001b[0m \u001b[38;5;28mself\u001b[39m\u001b[38;5;241m.\u001b[39m_concrete_variable_creation_fn \u001b[38;5;241m=\u001b[39m \u001b[43mtracing_compilation\u001b[49m\u001b[38;5;241;43m.\u001b[39;49m\u001b[43mtrace_function\u001b[49m\u001b[43m(\u001b[49m\n\u001b[1;32m    697\u001b[0m \u001b[43m    \u001b[49m\u001b[43margs\u001b[49m\u001b[43m,\u001b[49m\u001b[43m \u001b[49m\u001b[43mkwds\u001b[49m\u001b[43m,\u001b[49m\u001b[43m \u001b[49m\u001b[38;5;28;43mself\u001b[39;49m\u001b[38;5;241;43m.\u001b[39;49m\u001b[43m_variable_creation_config\u001b[49m\n\u001b[1;32m    698\u001b[0m \u001b[43m\u001b[49m\u001b[43m)\u001b[49m\n\u001b[1;32m    700\u001b[0m \u001b[38;5;28;01mdef\u001b[39;00m \u001b[38;5;21minvalid_creator_scope\u001b[39m(\u001b[38;5;241m*\u001b[39munused_args, \u001b[38;5;241m*\u001b[39m\u001b[38;5;241m*\u001b[39munused_kwds):\n\u001b[1;32m    701\u001b[0m \u001b[38;5;250m  \u001b[39m\u001b[38;5;124;03m\"\"\"Disables variable creation.\"\"\"\u001b[39;00m\n",
            "File \u001b[0;32m/opt/conda/lib/python3.10/site-packages/tensorflow/python/eager/polymorphic_function/tracing_compilation.py:178\u001b[0m, in \u001b[0;36mtrace_function\u001b[0;34m(args, kwargs, tracing_options)\u001b[0m\n\u001b[1;32m    175\u001b[0m     args \u001b[38;5;241m=\u001b[39m tracing_options\u001b[38;5;241m.\u001b[39minput_signature\n\u001b[1;32m    176\u001b[0m     kwargs \u001b[38;5;241m=\u001b[39m {}\n\u001b[0;32m--> 178\u001b[0m   concrete_function \u001b[38;5;241m=\u001b[39m \u001b[43m_maybe_define_function\u001b[49m\u001b[43m(\u001b[49m\n\u001b[1;32m    179\u001b[0m \u001b[43m      \u001b[49m\u001b[43margs\u001b[49m\u001b[43m,\u001b[49m\u001b[43m \u001b[49m\u001b[43mkwargs\u001b[49m\u001b[43m,\u001b[49m\u001b[43m \u001b[49m\u001b[43mtracing_options\u001b[49m\n\u001b[1;32m    180\u001b[0m \u001b[43m  \u001b[49m\u001b[43m)\u001b[49m\n\u001b[1;32m    182\u001b[0m \u001b[38;5;28;01mif\u001b[39;00m \u001b[38;5;129;01mnot\u001b[39;00m tracing_options\u001b[38;5;241m.\u001b[39mbind_graph_to_function:\n\u001b[1;32m    183\u001b[0m   concrete_function\u001b[38;5;241m.\u001b[39m_garbage_collector\u001b[38;5;241m.\u001b[39mrelease()  \u001b[38;5;66;03m# pylint: disable=protected-access\u001b[39;00m\n",
            "File \u001b[0;32m/opt/conda/lib/python3.10/site-packages/tensorflow/python/eager/polymorphic_function/tracing_compilation.py:230\u001b[0m, in \u001b[0;36m_maybe_define_function\u001b[0;34m(args, kwargs, tracing_options)\u001b[0m\n\u001b[1;32m    220\u001b[0m current_func_context \u001b[38;5;241m=\u001b[39m function_context\u001b[38;5;241m.\u001b[39mmake_function_context(\n\u001b[1;32m    221\u001b[0m     tracing_options\u001b[38;5;241m.\u001b[39mscope_type\n\u001b[1;32m    222\u001b[0m )\n\u001b[1;32m    224\u001b[0m capture_types \u001b[38;5;241m=\u001b[39m (\n\u001b[1;32m    225\u001b[0m     tracing_options\u001b[38;5;241m.\u001b[39mfunction_captures\u001b[38;5;241m.\u001b[39mcapture_types\n\u001b[1;32m    226\u001b[0m     \u001b[38;5;28;01mif\u001b[39;00m tracing_options\u001b[38;5;241m.\u001b[39mfunction_captures\n\u001b[1;32m    227\u001b[0m     \u001b[38;5;28;01melse\u001b[39;00m {}\n\u001b[1;32m    228\u001b[0m )\n\u001b[1;32m    229\u001b[0m lookup_func_type, lookup_func_context \u001b[38;5;241m=\u001b[39m (\n\u001b[0;32m--> 230\u001b[0m     \u001b[43mfunction_type_utils\u001b[49m\u001b[38;5;241;43m.\u001b[39;49m\u001b[43mmake_canonicalized_monomorphic_type\u001b[49m\u001b[43m(\u001b[49m\n\u001b[1;32m    231\u001b[0m \u001b[43m        \u001b[49m\u001b[43margs\u001b[49m\u001b[43m,\u001b[49m\n\u001b[1;32m    232\u001b[0m \u001b[43m        \u001b[49m\u001b[43mkwargs\u001b[49m\u001b[43m,\u001b[49m\n\u001b[1;32m    233\u001b[0m \u001b[43m        \u001b[49m\u001b[43mcapture_types\u001b[49m\u001b[43m,\u001b[49m\n\u001b[1;32m    234\u001b[0m \u001b[43m        \u001b[49m\u001b[43mtracing_options\u001b[49m\u001b[38;5;241;43m.\u001b[39;49m\u001b[43mpolymorphic_type\u001b[49m\u001b[43m,\u001b[49m\n\u001b[1;32m    235\u001b[0m \u001b[43m    \u001b[49m\u001b[43m)\u001b[49m\n\u001b[1;32m    236\u001b[0m )\n\u001b[1;32m    238\u001b[0m \u001b[38;5;28;01mif\u001b[39;00m tracing_options\u001b[38;5;241m.\u001b[39mfunction_cache \u001b[38;5;129;01mis\u001b[39;00m \u001b[38;5;129;01mnot\u001b[39;00m \u001b[38;5;28;01mNone\u001b[39;00m:\n\u001b[1;32m    239\u001b[0m   concrete_function \u001b[38;5;241m=\u001b[39m tracing_options\u001b[38;5;241m.\u001b[39mfunction_cache\u001b[38;5;241m.\u001b[39mlookup(\n\u001b[1;32m    240\u001b[0m       lookup_func_type, current_func_context\n\u001b[1;32m    241\u001b[0m   )\n",
            "File \u001b[0;32m/opt/conda/lib/python3.10/site-packages/tensorflow/python/eager/polymorphic_function/function_type_utils.py:375\u001b[0m, in \u001b[0;36mmake_canonicalized_monomorphic_type\u001b[0;34m(args, kwargs, capture_types, polymorphic_type)\u001b[0m\n\u001b[1;32m    368\u001b[0m \u001b[38;5;250m\u001b[39m\u001b[38;5;124;03m\"\"\"Generates function type given the function arguments.\"\"\"\u001b[39;00m\n\u001b[1;32m    369\u001b[0m kwargs \u001b[38;5;241m=\u001b[39m {\n\u001b[1;32m    370\u001b[0m     function_type_lib\u001b[38;5;241m.\u001b[39msanitize_arg_name(name): value\n\u001b[1;32m    371\u001b[0m     \u001b[38;5;28;01mfor\u001b[39;00m name, value \u001b[38;5;129;01min\u001b[39;00m kwargs\u001b[38;5;241m.\u001b[39mitems()\n\u001b[1;32m    372\u001b[0m }\n\u001b[1;32m    374\u001b[0m function_type, type_context \u001b[38;5;241m=\u001b[39m (\n\u001b[0;32m--> 375\u001b[0m     \u001b[43mfunction_type_lib\u001b[49m\u001b[38;5;241;43m.\u001b[39;49m\u001b[43mcanonicalize_to_monomorphic\u001b[49m\u001b[43m(\u001b[49m\n\u001b[1;32m    376\u001b[0m \u001b[43m        \u001b[49m\u001b[43margs\u001b[49m\u001b[43m,\u001b[49m\u001b[43m \u001b[49m\u001b[43mkwargs\u001b[49m\u001b[43m,\u001b[49m\u001b[43m \u001b[49m\u001b[43m{\u001b[49m\u001b[43m}\u001b[49m\u001b[43m,\u001b[49m\u001b[43m \u001b[49m\u001b[43mcapture_types\u001b[49m\u001b[43m,\u001b[49m\u001b[43m \u001b[49m\u001b[43mpolymorphic_type\u001b[49m\n\u001b[1;32m    377\u001b[0m \u001b[43m    \u001b[49m\u001b[43m)\u001b[49m\n\u001b[1;32m    378\u001b[0m )\n\u001b[1;32m    380\u001b[0m \u001b[38;5;28;01mreturn\u001b[39;00m function_type, type_context\n",
            "File \u001b[0;32m/opt/conda/lib/python3.10/site-packages/tensorflow/core/function/polymorphism/function_type.py:583\u001b[0m, in \u001b[0;36mcanonicalize_to_monomorphic\u001b[0;34m(args, kwargs, default_values, capture_types, polymorphic_type)\u001b[0m\n\u001b[1;32m    577\u001b[0m       parameters\u001b[38;5;241m.\u001b[39mappend(\n\u001b[1;32m    578\u001b[0m           _make_validated_mono_param(kwarg_name, arg[kwarg_name],\n\u001b[1;32m    579\u001b[0m                                      Parameter\u001b[38;5;241m.\u001b[39mKEYWORD_ONLY, type_context,\n\u001b[1;32m    580\u001b[0m                                      poly_parameter\u001b[38;5;241m.\u001b[39mtype_constraint))\n\u001b[1;32m    581\u001b[0m   \u001b[38;5;28;01melse\u001b[39;00m:\n\u001b[1;32m    582\u001b[0m     parameters\u001b[38;5;241m.\u001b[39mappend(\n\u001b[0;32m--> 583\u001b[0m         \u001b[43m_make_validated_mono_param\u001b[49m\u001b[43m(\u001b[49m\u001b[43mname\u001b[49m\u001b[43m,\u001b[49m\u001b[43m \u001b[49m\u001b[43marg\u001b[49m\u001b[43m,\u001b[49m\u001b[43m \u001b[49m\u001b[43mpoly_parameter\u001b[49m\u001b[38;5;241;43m.\u001b[39;49m\u001b[43mkind\u001b[49m\u001b[43m,\u001b[49m\n\u001b[1;32m    584\u001b[0m \u001b[43m                                   \u001b[49m\u001b[43mtype_context\u001b[49m\u001b[43m,\u001b[49m\n\u001b[1;32m    585\u001b[0m \u001b[43m                                   \u001b[49m\u001b[43mpoly_parameter\u001b[49m\u001b[38;5;241;43m.\u001b[39;49m\u001b[43mtype_constraint\u001b[49m\u001b[43m)\u001b[49m)\n\u001b[1;32m    587\u001b[0m \u001b[38;5;28;01mreturn\u001b[39;00m FunctionType(parameters, capture_types), type_context\n",
            "File \u001b[0;32m/opt/conda/lib/python3.10/site-packages/tensorflow/core/function/polymorphism/function_type.py:524\u001b[0m, in \u001b[0;36m_make_validated_mono_param\u001b[0;34m(name, value, kind, type_context, poly_type)\u001b[0m\n\u001b[1;32m    521\u001b[0m \u001b[38;5;250m\u001b[39m\u001b[38;5;124;03m\"\"\"Generates and validates a parameter for Monomorphic FunctionType.\"\"\"\u001b[39;00m\n\u001b[1;32m    522\u001b[0m mono_type \u001b[38;5;241m=\u001b[39m trace_type\u001b[38;5;241m.\u001b[39mfrom_value(value, type_context)\n\u001b[0;32m--> 524\u001b[0m \u001b[38;5;28;01mif\u001b[39;00m poly_type \u001b[38;5;129;01mand\u001b[39;00m \u001b[38;5;129;01mnot\u001b[39;00m \u001b[43mmono_type\u001b[49m\u001b[38;5;241;43m.\u001b[39;49m\u001b[43mis_subtype_of\u001b[49m\u001b[43m(\u001b[49m\u001b[43mpoly_type\u001b[49m\u001b[43m)\u001b[49m:\n\u001b[1;32m    525\u001b[0m   \u001b[38;5;28;01mraise\u001b[39;00m \u001b[38;5;167;01mTypeError\u001b[39;00m(\u001b[38;5;124mf\u001b[39m\u001b[38;5;124m\"\u001b[39m\u001b[38;5;124mParameter `\u001b[39m\u001b[38;5;132;01m{\u001b[39;00mname\u001b[38;5;132;01m}\u001b[39;00m\u001b[38;5;124m` was expected to be of type \u001b[39m\u001b[38;5;124m\"\u001b[39m\n\u001b[1;32m    526\u001b[0m                   \u001b[38;5;124mf\u001b[39m\u001b[38;5;124m\"\u001b[39m\u001b[38;5;132;01m{\u001b[39;00mpoly_type\u001b[38;5;132;01m}\u001b[39;00m\u001b[38;5;124m but is \u001b[39m\u001b[38;5;132;01m{\u001b[39;00mmono_type\u001b[38;5;132;01m}\u001b[39;00m\u001b[38;5;124m\"\u001b[39m)\n\u001b[1;32m    528\u001b[0m \u001b[38;5;28;01mreturn\u001b[39;00m Parameter(name, kind, \u001b[38;5;28;01mFalse\u001b[39;00m, mono_type)\n",
            "File \u001b[0;32m/opt/conda/lib/python3.10/site-packages/tensorflow/python/framework/tensor.py:1004\u001b[0m, in \u001b[0;36mTensorSpec.is_subtype_of\u001b[0;34m(self, other)\u001b[0m\n\u001b[1;32m    999\u001b[0m \u001b[38;5;28;01mif\u001b[39;00m \u001b[38;5;129;01mnot\u001b[39;00m \u001b[38;5;28misinstance\u001b[39m(other, TensorSpec):\n\u001b[1;32m   1000\u001b[0m   \u001b[38;5;28;01mreturn\u001b[39;00m \u001b[38;5;28;01mFalse\u001b[39;00m\n\u001b[1;32m   1002\u001b[0m \u001b[38;5;28;01mreturn\u001b[39;00m (\n\u001b[1;32m   1003\u001b[0m     (\u001b[38;5;129;01mnot\u001b[39;00m \u001b[38;5;28mself\u001b[39m\u001b[38;5;241m.\u001b[39mname \u001b[38;5;129;01mor\u001b[39;00m \u001b[38;5;28mself\u001b[39m\u001b[38;5;241m.\u001b[39mname \u001b[38;5;241m==\u001b[39m other\u001b[38;5;241m.\u001b[39mname)\n\u001b[0;32m-> 1004\u001b[0m     \u001b[38;5;129;01mand\u001b[39;00m \u001b[38;5;28;43mself\u001b[39;49m\u001b[38;5;241;43m.\u001b[39;49m\u001b[43mshape\u001b[49m\u001b[38;5;241;43m.\u001b[39;49m\u001b[43mis_subtype_of\u001b[49m\u001b[43m(\u001b[49m\u001b[43mother\u001b[49m\u001b[38;5;241;43m.\u001b[39;49m\u001b[43mshape\u001b[49m\u001b[43m)\u001b[49m\n\u001b[1;32m   1005\u001b[0m     \u001b[38;5;129;01mand\u001b[39;00m \u001b[38;5;28mself\u001b[39m\u001b[38;5;241m.\u001b[39mdtype\u001b[38;5;241m.\u001b[39mis_subtype_of(other\u001b[38;5;241m.\u001b[39mdtype)\n\u001b[1;32m   1006\u001b[0m )\n",
            "File \u001b[0;32m/opt/conda/lib/python3.10/site-packages/tensorflow/python/framework/tensor_shape.py:1221\u001b[0m, in \u001b[0;36mTensorShape.is_subtype_of\u001b[0;34m(self, other)\u001b[0m\n\u001b[1;32m   1217\u001b[0m   \u001b[38;5;28;01mreturn\u001b[39;00m \u001b[38;5;28;01mTrue\u001b[39;00m\n\u001b[1;32m   1219\u001b[0m \u001b[38;5;66;03m# Tensor with a defined shape can only be subtype of another with a defined\u001b[39;00m\n\u001b[1;32m   1220\u001b[0m \u001b[38;5;66;03m# shape if they have the same number of dimensions.\u001b[39;00m\n\u001b[0;32m-> 1221\u001b[0m \u001b[38;5;28;01mif\u001b[39;00m \u001b[38;5;28;43mself\u001b[39;49m\u001b[38;5;241;43m.\u001b[39;49m\u001b[43mrank\u001b[49m \u001b[38;5;241m!=\u001b[39m other\u001b[38;5;241m.\u001b[39mrank:\n\u001b[1;32m   1222\u001b[0m   \u001b[38;5;28;01mreturn\u001b[39;00m \u001b[38;5;28;01mFalse\u001b[39;00m\n\u001b[1;32m   1224\u001b[0m \u001b[38;5;66;03m# A Tensor is a subtype if each corresponding dimension is a subtype.\u001b[39;00m\n",
            "File \u001b[0;32m/opt/conda/lib/python3.10/site-packages/tensorflow/python/framework/tensor_shape.py:892\u001b[0m, in \u001b[0;36mTensorShape.rank\u001b[0;34m(self)\u001b[0m\n\u001b[1;32m    889\u001b[0m     \u001b[38;5;28;01melse\u001b[39;00m:\n\u001b[1;32m    890\u001b[0m       \u001b[38;5;28;01mreturn\u001b[39;00m \u001b[38;5;124m\"\u001b[39m\u001b[38;5;124m(\u001b[39m\u001b[38;5;132;01m%s\u001b[39;00m\u001b[38;5;124m)\u001b[39m\u001b[38;5;124m\"\u001b[39m \u001b[38;5;241m%\u001b[39m \u001b[38;5;124m\"\u001b[39m\u001b[38;5;124m, \u001b[39m\u001b[38;5;124m\"\u001b[39m\u001b[38;5;241m.\u001b[39mjoin(\u001b[38;5;28mstr\u001b[39m(d) \u001b[38;5;28;01mfor\u001b[39;00m d \u001b[38;5;129;01min\u001b[39;00m \u001b[38;5;28mself\u001b[39m\u001b[38;5;241m.\u001b[39mdims)\n\u001b[0;32m--> 892\u001b[0m \u001b[38;5;129m@property\u001b[39m\n\u001b[1;32m    893\u001b[0m \u001b[38;5;28;01mdef\u001b[39;00m \u001b[38;5;21mrank\u001b[39m(\u001b[38;5;28mself\u001b[39m):\n\u001b[1;32m    894\u001b[0m \u001b[38;5;250m  \u001b[39m\u001b[38;5;124;03m\"\"\"Returns the rank of this shape, or None if it is unspecified.\"\"\"\u001b[39;00m\n\u001b[1;32m    895\u001b[0m   \u001b[38;5;28;01mif\u001b[39;00m \u001b[38;5;28mself\u001b[39m\u001b[38;5;241m.\u001b[39m_dims \u001b[38;5;129;01mis\u001b[39;00m \u001b[38;5;129;01mnot\u001b[39;00m \u001b[38;5;28;01mNone\u001b[39;00m:\n",
            "\u001b[0;31mKeyboardInterrupt\u001b[0m: "
          ],
          "ename": "KeyboardInterrupt",
          "evalue": "",
          "output_type": "error"
        }
      ]
    },
    {
      "cell_type": "code",
      "source": [],
      "metadata": {
        "id": "RPpiV5heifC7"
      },
      "execution_count": null,
      "outputs": []
    }
  ]
}